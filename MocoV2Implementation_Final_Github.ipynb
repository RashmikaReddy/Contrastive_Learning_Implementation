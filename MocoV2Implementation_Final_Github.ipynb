{
  "nbformat": 4,
  "nbformat_minor": 0,
  "metadata": {
    "colab": {
      "provenance": [],
      "mount_file_id": "1fFAeZAOpUuZ1C9todas272fsF8Px92p4",
      "authorship_tag": "ABX9TyOSW+yGuEbw0R4rW1cTNjEr",
      "include_colab_link": true
    },
    "kernelspec": {
      "name": "python3",
      "display_name": "Python 3"
    },
    "language_info": {
      "name": "python"
    },
    "gpuClass": "standard",
    "accelerator": "GPU"
  },
  "cells": [
    {
      "cell_type": "markdown",
      "metadata": {
        "id": "view-in-github",
        "colab_type": "text"
      },
      "source": [
        "<a href=\"https://colab.research.google.com/github/RashmikaReddy/Contrastive_Learning_Implementation/blob/main/MocoV2Implementation_Final_Github.ipynb\" target=\"_parent\"><img src=\"https://colab.research.google.com/assets/colab-badge.svg\" alt=\"Open In Colab\"/></a>"
      ]
    },
    {
      "cell_type": "code",
      "execution_count": null,
      "metadata": {
        "colab": {
          "base_uri": "https://localhost:8080/"
        },
        "id": "81adXTmYlDqj",
        "outputId": "fdbefb0d-4f8b-44bb-e9e4-91f59541b385"
      },
      "outputs": [
        {
          "output_type": "stream",
          "name": "stdout",
          "text": [
            "Cloning into 'imagenet-5-categories'...\n",
            "remote: Enumerating objects: 1532, done.\u001b[K\n",
            "remote: Total 1532 (delta 0), reused 0 (delta 0), pack-reused 1532\u001b[K\n",
            "Receiving objects: 100% (1532/1532), 88.56 MiB | 13.91 MiB/s, done.\n",
            "Resolving deltas: 100% (1/1), done.\n"
          ]
        }
      ],
      "source": [
        "# Useful imports\n",
        "# Getting the dataset from the github repo of imagenet 5 categories\n",
        "!git clone https://github.com/thunderInfy/imagenet-5-categories.git\n",
        "\n",
        "import numpy as np\n",
        "import torch\n",
        "import copy\n",
        "from torchvision import transforms as T\n",
        "from torchsummary import summary\n",
        "import torch.nn as nn\n",
        "import torch.optim as optim\n",
        "from torch.utils.data import Dataset, DataLoader\n",
        "from torchvision.models import resnet18\n",
        "import os\n",
        "import glob\n",
        "from PIL import Image\n",
        "from collections import OrderedDict\n",
        "import random\n",
        "import matplotlib.pyplot as plt\n",
        "from sklearn.manifold import TSNE\n",
        "import seaborn as sns\n",
        "tsne = TSNE()\n",
        "\n"
      ]
    },
    {
      "cell_type": "code",
      "source": [
        "from google.colab import drive\n",
        "drive.mount('/content/drive')"
      ],
      "metadata": {
        "colab": {
          "base_uri": "https://localhost:8080/"
        },
        "id": "4SiYeV7351p2",
        "outputId": "589f10dd-1686-4933-8da4-7de4960da213"
      },
      "execution_count": null,
      "outputs": [
        {
          "output_type": "stream",
          "name": "stdout",
          "text": [
            "Drive already mounted at /content/drive; to attempt to forcibly remount, call drive.mount(\"/content/drive\", force_remount=True).\n"
          ]
        }
      ]
    },
    {
      "cell_type": "code",
      "source": [
        "# device is set to cuda if cuda is available\n",
        "device = torch.device('cuda' if torch.cuda.is_available() else 'cpu')\n",
        "\n",
        "# root folder is the name of the folder where data is contained\n",
        "#root_folder = '/content/drive/MyDrive/imagenet-5-categories'\n",
        "root_folder = 'imagenet-5-categories'\n",
        "\n",
        "train_names = sorted(os.listdir(root_folder + '/train'))\n",
        "test_names = sorted(os.listdir(root_folder + '/test'))\n",
        "\n",
        "# setting random seed to ensure the same 10% labelled data is used when training the linear classifier\n",
        "random.seed(0)\n",
        "\n",
        "names_train_10_percent = random.sample(train_names, len(train_names) // 10)\n",
        "names_train = random.sample(train_names, len(train_names))\n",
        "names_test = random.sample(test_names, len(test_names))\n"
      ],
      "metadata": {
        "id": "r6UKT0f451JU"
      },
      "execution_count": null,
      "outputs": []
    },
    {
      "cell_type": "code",
      "source": [
        "print(names_train_10_percent)\n",
        "print(names_train)\n",
        "print(names_test)"
      ],
      "metadata": {
        "id": "aOqXPS-yx6b6",
        "colab": {
          "base_uri": "https://localhost:8080/"
        },
        "outputId": "7d496154-d33d-4531-bcc1-f43bc95b8754"
      },
      "execution_count": null,
      "outputs": [
        {
          "output_type": "stream",
          "name": "stdout",
          "text": [
            "['dog_1407995394_22d8274d95.jpg', 'dog_298325020_925ce65f7c.jpg', 'airplane_2110882407_db1564e294.jpg', 'cat_130028450_3bea7e5120.jpg', 'elephant_1476324821_d53eeef43f.jpg', 'dog_959590073_b411321069.jpg', 'dog_2021522094_e3998b18e0.jpg', 'cat_299837288_5c84203463.jpg', 'dog_690883918_0a2ebf2d4a.jpg', 'cat_809663020_7ce9d0899f.jpg', 'elephant_518813412_12505cf38a.jpg', 'car_2666463976_54eedf3bb0.jpg', 'elephant_1371597085_668b079f8d.jpg', 'car_2060217143_9725741a28.jpg', 'cat_201964852_1817e956c1.jpg', 'car_2060326215_d0289b872e.jpg', 'airplane_388364587_64b2370a82.jpg', 'cat_1130458060_b77117482a.jpg', 'elephant_1919497998_3ca0e4b024.jpg', 'elephant_81317196_a96223ef04.jpg', 'car_2224497766_1de83768a7.jpg', 'cat_371068935_af213116ce.jpg', 'airplane_420257932_91a79f131f.jpg', 'airplane_257796960_f2b410e9cd.jpg', 'cat_495308681_e317861b3e.jpg', 'dog_515415369_5b5258ea94.jpg', 'elephant_342367081_234bf66913.jpg', 'airplane_425399322_b8c9f3facf.jpg', 'cat_797614305_bec61c42af.jpg', 'dog_381342603_81db58bea4.jpg', 'cat_433443071_a624cb32e9.jpg', 'car_2617142107_9bb7f7a1c0.jpg', 'elephant_289721989_be9987c13c.jpg', 'dog_406840830_b256dd8600.jpg', 'elephant_171247473_52ecaae406.jpg', 'cat_131841183_9f01bab747.jpg', 'airplane_2393193881_f53fdc9593.jpg', 'elephant_273138922_cd3c709ce0.jpg', 'airplane_1385453119_2b344e7708.jpg', 'airplane_386486813_a491b7d895.jpg', 'dog_184682631_4317bd4a6e.jpg', 'airplane_1037161676_42e3193128.jpg', 'elephant_108331635_4dccd99e9d.jpg', 'cat_508132866_4d69bae597.jpg', 'car_98068793_5748e8b8b6.jpg', 'cat_464759752_9c09d289fe.jpg', 'airplane_240078286_8be1353fd0.jpg', 'car_2577062251_b7730929e5.jpg', 'elephant_39120659_9a42e43e9d.jpg', 'car_2690113895_507f0fb71a.jpg', 'car_473811436_2f5e2282b5.jpg', 'car_2116965763_923c90ee33.jpg', 'elephant_231279467_386176e63f.jpg', 'dog_426596669_6c2efd0c3b.jpg', 'airplane_35607063_db8db2b29e.jpg', 'airplane_2707596196_1047fa7b74.jpg', 'cat_453377309_d2930a27f7.jpg', 'elephant_1397098508_c8d2ce1560.jpg', 'elephant_101030511_ea0eb887d0.jpg', 'airplane_549733728_8fc9ec082d.jpg', 'cat_289296107_632cde21c3.jpg', 'elephant_284351909_3feabcbffc.jpg', 'cat_2221101205_a3ab95041e.jpg', 'car_1260326450_01fefc2d7a.jpg', 'elephant_265651807_1518d1d9eb.jpg', 'cat_505539125_d7193beb76.jpg', 'elephant_2235050913_4d718b41c7.jpg', 'car_2604149964_065b86f906.jpg', 'elephant_847057903_78f8014971.jpg', 'elephant_262793989_63b199b8b3.jpg', 'elephant_543107356_582698a955.jpg', 'cat_2100972415_c4c97d74fe.jpg', 'dog_421783705_f4a49998fe.jpg', 'airplane_370787033_d838df6f2c.jpg', 'elephant_742904115_ad0fb96187.jpg', 'cat_439909665_262dc4a0fe.jpg', 'elephant_456667815_0fb8872ca6.jpg', 'car_888121_b8c0a747fa.jpg', 'cat_2143568817_87cd9db05f.jpg', 'car_2505784372_a752643112.jpg', 'car_2572249513_ba76b2b8e6.jpg', 'car_2538560700_5818000192.jpg', 'airplane_197248946_e1e0c636db.jpg', 'cat_131001499_e6f50809db.jpg', 'dog_688939929_9feaa7e4f9.jpg', 'airplane_2545180499_f91182afd9.jpg', 'airplane_33622377_9419ebc75f.jpg', 'car_1389950194_3a1d07fee0.jpg', 'car_2246277273_574485f09f.jpg', 'airplane_209779652_ed83eee3af.jpg', 'elephant_2244321706_4e8574d1c1.jpg', 'dog_1589046073_5420d1ca1d.jpg', 'elephant_171260648_04a539d156.jpg', 'cat_1809362680_ba9213d4f5.jpg', 'elephant_171247905_aa44f6ccb4.jpg', 'car_374294882_6a5cc96ffb.jpg', 'car_2660606120_b6c334c61d.jpg', 'elephant_543218189_dcefb1a310.jpg', 'dog_274363411_b5ded28228.jpg', 'elephant_499280318_5e706c8316.jpg', 'cat_178552778_3d8c84d090.jpg', 'dog_426751489_7798a17d73.jpg', 'elephant_1068986661_7cc0df9a4c.jpg', 'cat_808783922_0086c2de75.jpg', 'airplane_2724914815_151610eca6.jpg', 'cat_459663811_5581b5e73e.jpg', 'airplane_697902907_c378172b23.jpg', 'dog_96187754_4b7d63660c.jpg', 'elephant_541692555_4977db3c2c.jpg', 'cat_516316867_882eecb7ba.jpg', 'car_2574168252_16056491dd.jpg', 'car_950211203_8486492df7.jpg', 'airplane_1421491245_f2ffce1d75.jpg', 'cat_166840712_b95a6565bb.jpg', 'airplane_759824712_34e9500362.jpg', 'car_2676976763_4ea14b3d7e.jpg', 'dog_1138807082_9fffec94d2.jpg', 'car_2440967370_aa0b604017.jpg', 'dog_314290999_efe6f29aa8.jpg', 'car_2224435075_8cf59bda7c.jpg', 'car_2666739991_43bc7aed7d.jpg', 'airplane_2179235172_c87fa7cdfc.jpg', 'elephant_449704285_7a3e7cd2e3.jpg', 'elephant_2088386708_b84a8eb857.jpg', 'elephant_842146094_ba09d23e0d.jpg']\n",
            "['airplane_257796960_f2b410e9cd.jpg', 'airplane_177530215_e02f05a596.jpg', 'car_1260299128_28a71aa96a.jpg', 'car_2570822777_30d2c5d3cc.jpg', 'elephant_86751520_246de2a54e.jpg', 'elephant_456668125_c70bba9f72.jpg', 'airplane_88395459_992dabe764.jpg', 'dog_1589046073_5420d1ca1d.jpg', 'airplane_370787033_d838df6f2c.jpg', 'dog_1114031303_03c6f21c53.jpg', 'airplane_73548780_045db11599.jpg', 'airplane_201055683_76e5149bec.jpg', 'airplane_1569870247_963a142dea.jpg', 'car_2583556570_6bf3197b8c.jpg', 'car_2511386544_d1590e73f7.jpg', 'car_1259513947_cfff1b7336.jpg', 'dog_78038346_2ce4cb65d5.jpg', 'car_263312993_d7cf3ab79c.jpg', 'airplane_2393186173_5df8796c80.jpg', 'airplane_1589413077_f20f02bbae.jpg', 'elephant_235118168_bda7675339.jpg', 'dog_312943903_aa0b5a8c05.jpg', 'airplane_432305973_7ecbe9d2c4.jpg', 'cat_131001499_e6f50809db.jpg', 'airplane_2554751290_7613d32839.jpg', 'car_2684679529_97ccf686de.jpg', 'airplane_2562732252_afa2c90e21.jpg', 'cat_288847186_f720ea4e1e.jpg', 'cat_75714427_07216dd49d.jpg', 'dog_40032450_89ab9c620f.jpg', 'car_2483144533_b4c8ddc062.jpg', 'elephant_81317195_f4d353aaa4.jpg', 'elephant_1355693327_f53eeb6706.jpg', 'dog_492305013_5b048e2bbc.jpg', 'airplane_2103067802_6e487b580c.jpg', 'airplane_425399322_b8c9f3facf.jpg', 'elephant_879887614_5d55b564da.jpg', 'car_2599236373_8f7c7a6512.jpg', 'elephant_76574872_041e0901c2.jpg', 'cat_818198506_e1d7c3a16c.jpg', 'dog_511225888_826e467724.jpg', 'elephant_414372568_237a948a73.jpg', 'car_2433900387_78d47fbfa8.jpg', 'car_2604149964_065b86f906.jpg', 'airplane_2337923759_f53315f5a0.jpg', 'car_2349465503_af2f700e65.jpg', 'car_2381680146_f3337204a4.jpg', 'cat_596921389_2122f67089.jpg', 'elephant_1805009685_7e64003cee.jpg', 'cat_1130458060_b77117482a.jpg', 'airplane_814680789_26de834af2.jpg', 'dog_406806420_7585703d38.jpg', 'car_2454464852_93202af2ca.jpg', 'airplane_1385059255_4a608b7e0f.jpg', 'dog_512777356_cc623da075.jpg', 'dog_2085768823_a0afd2773f.jpg', 'elephant_413343776_0a5c6dffff.jpg', 'elephant_1409858825_141a5df03d.jpg', 'cat_37458448_e08eb12d37.jpg', 'cat_808783922_0086c2de75.jpg', 'dog_1485445731_7ec563b052.jpg', 'elephant_540949347_64efad7c07.jpg', 'car_2301252128_061387e023.jpg', 'elephant_3432434213r352332.jpg', 'airplane_1383638808_e3cdb32c54.jpg', 'dog_436116698_42a67962ab.jpg', 'airplane_2671635488_262df68644.jpg', 'cat_520330558_682540ae3e.jpg', 'airplane_219495403_a7d194255b.jpg', 'elephant_793109030_182865f01a.jpg', 'cat_1986619993_4d2e3a5442.jpg', 'car_1679332342_a7553bd16b.jpg', 'car_606181362_df658e612a.jpg', 'dog_842453552_908111fca8.jpg', 'cat_778142671_b39d893f71.jpg', 'cat_2100972415_c4c97d74fe.jpg', 'cat_828707250_52b42578a8.jpg', 'car_1511161765_9e46bf0003.jpg', 'cat_371068935_af213116ce.jpg', 'dog_1469874443_d9cd198fc7.jpg', 'dog_2192510042_0bbe6ef4fb.jpg', 'airplane_2724779395_e6ca6db0ab.jpg', 'airplane_1051112027_f4e0a701b2.jpg', 'car_2579691643_b956c748eb.jpg', 'cat_510864988_425996c143.jpg', 'car_2351420346_23c219eab5.jpg', 'car_47635237_1e85ffaf2e.jpg', 'car_2691435561_19680a057a.jpg', 'dog_426596669_6c2efd0c3b.jpg', 'dog_1362337622_6715d73cd5.jpg', 'elephant_41688469_cd0666aa15.jpg', 'airplane_196514786_66d3b1735f.jpg', 'dog_1891011832_cb5d5098c2.jpg', 'dog_253261970_d7b656a9f5.jpg', 'airplane_220719793_408d25b459.jpg', 'car_2416298958_8f4fed3ca5.jpg', 'dog_421788808_9f5b98aa32.jpg', 'airplane_2405170905_3e848336d7.jpg', 'cat_130028450_3bea7e5120.jpg', 'car_2335896543.jpg', 'dog_426575540_ec97a25c8b.jpg', 'elephant_173175331_80e422484a.jpg', 'dog_962234498_7168e11614.jpg', 'airplane_100574956_ccfcc18d73.jpg', 'airplane_209779652_ed83eee3af.jpg', 'elephant_109717052_01b5601608.jpg', 'cat_465423833_3a7229f251.jpg', 'cat_393656824_bd89c512d0.jpg', 'elephant_689577343_a2d7995aa1.jpg', 'airplane_2270128078_48b9285f4a.jpg', 'dog_2221391399_35672601c4.jpg', 'car_2553716656_43ef5f8e6b.jpg', 'elephant_273138922_cd3c709ce0.jpg', 'airplane_2725691508_f156a49e2a.jpg', 'car_1389986966_2e05482189.jpg', 'airplane_1403066022_7f2226b1f4.jpg', 'dog_1876898910_8c619d7f76.jpg', 'dog_249881952_cd4e9c3cd0.jpg', 'cat_433443071_a624cb32e9.jpg', 'airplane_108849837_15d5b5defa.jpg', 'car_2655494038_4a25e8e1c8.jpg', 'airplane_1399804209_24dd4e9ed4.jpg', 'airplane_106977429_bfa7dff392.jpg', 'elephant_1797110823_d89a8ea8f8.jpg', 'airplane_417566635_abe4a920b5.jpg', 'car_2576400220_27b005d234.jpg', 'airplane_861291324_2a397496dc.jpg', 'car_2590939229_e322b52f53.jpg', 'cat_299836248_fb3d91e2d9.jpg', 'cat_1973374961_28d50cffa2.jpg', 'car_2492386918_c076dd955e.jpg', 'airplane_424904790_c3b90d8be0.jpg', 'dog_678551616_0fc56a5298.jpg', 'dog_1814077511_14213d6767.jpg', 'airplane_2724822231_1554bddf3a.jpg', 'elephant_847919250_04f1ce2b88.jpg', 'cat_1775915054_554af9fdd7.jpg', 'dog_426950338_a40e466aef.jpg', 'elephant_847919332_a61b398015.jpg', 'cat_127952190_8500465590.jpg', 'car_1562287869_6d7972c72a.jpg', 'elephant_171246735_6fce3cba9b.jpg', 'cat_663418041_3f7c77d19a.jpg', 'airplane_6734386_57afa9b156.jpg', 'car_2301958002_a752deccc7.jpg', 'cat_1946817989_3990b900e7.jpg', 'airplane_150620537_216a7d8855.jpg', 'airplane_2165867961_d2caac80fd.jpg', 'airplane_213303085_80e6f25f1b.jpg', 'car_2622022216_5cf553eb9e.jpg', 'cat_1301334799_c33aa4368f.jpg', 'cat_42134687_2dcbca7ea1.jpg', 'dog_103868220_d232b4db68.jpg', 'elephant_2207867949_53b08fb27f.jpg', 'elephant_3355786_fc91a1811c.jpg', 'dog_437188714_a6c271a7b2.jpg', 'dog_392340820_200a4cbc4d.jpg', 'dog_1139170052_503aac3300.jpg', 'car_2467352715_a292bd40e7.jpg', 'car_2626231535_dea931587a.jpg', 'dog_125248334_7b5e58f96e.jpg', 'cat_2221101205_a3ab95041e.jpg', 'airplane_1255927570_ebb5676a1a.jpg', 'car_195987340_deadffe423.jpg', 'car_2284242336_097d8aed4c.jpg', 'cat_166840712_b95a6565bb.jpg', 'cat_508132866_4d69bae597.jpg', 'cat_526980964_3f1a6fa364.jpg', 'dog_104255595_2ed3867875.jpg', 'airplane_386486813_a491b7d895.jpg', 'cat_527070993_77c53e3222.jpg', 'airplane_198891241_f19357fa61.jpg', 'airplane_2145689832_de79596611.jpg', 'cat_1612667428_4ea558e97b.jpg', 'car_2397873565_082959984e.jpg', 'car_2246277273_574485f09f.jpg', 'cat_2134802268_f256811ce5.jpg', 'cat_846882986_4de328b6b4.jpg', 'dog_168294030_73ca9556f2.jpg', 'car_1389919748_22e3da68c3.jpg', 'cat_2229414874_ed4524d3dd.jpg', 'elephant_2235050913_4d718b41c7.jpg', 'dog_740665284_825f14c8e7.jpg', 'elephant_39169872_9521a60298.jpg', 'airplane_2230003421_45623b4388.jpg', 'cat_339697706_46ef43d3f1.jpg', 'car_2476601060_dce65d9c01.jpg', 'airplane_2562137712_0a745f90ee.jpg', 'elephant_265651807_1518d1d9eb.jpg', 'dog_2004101695_eefe794968.jpg', 'cat_48889715_e60ba92bfb.jpg', 'cat_262255460_0bb183a463.jpg', 'dog_2195511772_767c75b800.jpg', 'airplane_536391229_6572d31a81.jpg', 'airplane_42150703_56a5ea9d31.jpg', 'dog_8333029_c60053a5ce.jpg', 'dog_57104976_d09d3fd12a.jpg', 'cat_525123674_9b6761d7cd.jpg', 'cat_597189950_58638188cd.jpg', 'elephant_96758220_b196ca39b6.jpg', 'elephant_842146094_ba09d23e0d.jpg', 'elephant_230802412_f44d9faa43.jpg', 'elephant_1180962441_6c5fb177d8.jpg', 'dog_314576644_45e4dd4cc4.jpg', 'airplane_2057605454_904fed61e2.jpg', 'cat_29478281_687a41c197.jpg', 'cat_516316867_882eecb7ba.jpg', 'car_2302281914_4d60879f69.jpg', 'car_2431149099_6ce32c4762.jpg', 'elephant_187382339_64eae74744.jpg', 'airplane_306393347_533824f619.jpg', 'airplane_2451405959_0365255b5e.jpg', 'airplane_279551945_9ceb21dbba.jpg', 'car_2590057056_eb3da558fa.jpg', 'elephant_74462886_3fc56ad8da.jpg', 'elephant_70664453_91dfc5bc47.jpg', 'dog_1407995394_22d8274d95.jpg', 'airplane_121691993_ebcdb9393d.jpg', 'elephant_27473094_9124aaf8b6.jpg', 'dog_164276311_156d3c6b71.jpg', 'cat_2142439026_638347bbcd.jpg', 'dog_426607926_db3bc3d7ea.jpg', 'elephant_100425335_bedbba8e90.jpg', 'car_2661792958_43aa420d30.jpg', 'dog_312723437_ee664a5c21.jpg', 'airplane_273341574_86ca6a4eac.jpg', 'dog_1050065123_9739d1283a.jpg', 'airplane_566779893_ce03b1d528.jpg', 'elephant_2115016320_aace56a2b5.jpg', 'elephant_311927502_8b8aa10080.jpg', 'cat_222767742_1012b9722f.jpg', 'elephant_502841816_34b5e3fd03.jpg', 'elephant_311927630_33a92c13b6.jpg', 'car_2661009967_ce8c189c48.jpg', 'airplane_389647660_9f05c416f0.jpg', 'elephant_171239865_42701377ba.jpg', 'airplane_2337490984_291b01312b.jpg', 'airplane_196815033_f9f5b968aa.jpg', 'dog_2109658791_f5b87cac71.jpg', 'dog_353753310_1ed04f694c.jpg', 'elephant_1443650090_6a5a672ee2.jpg', 'cat_762884983_4b9e9f53c3.jpg', 'airplane_1385453119_2b344e7708.jpg', 'dog_426804592_4eb0888263.jpg', 'cat_13585591_d5c036e9d1.jpg', 'car_2692553168_7f46d8d5f6.jpg', 'dog_125859149_7ba63bb152.jpg', 'cat_533444142_ca081fa036.jpg', 'elephant_666166424_e94c2aeb58.jpg', 'airplane_2352239245_c977d048fb.jpg', 'cat_108142591_b71035a34c.jpg', 'car_2592422763_333c4fd8a0.jpg', 'car_1389127753_0c90cae3d8.jpg', 'airplane_474620305_d59920b0a4.jpg', 'cat_454081236_ec80633461.jpg', 'airplane_155943019_6d598183c2.jpg', 'elephant_1575691848_412c6dfca1.jpg', 'dog_184682631_4317bd4a6e.jpg', 'airplane_528361063_bedebe89b7.jpg', 'cat_389105593_354165d41a.jpg', 'airplane_2576488974_e737e2d51c.jpg', 'airplane_2291087620_aec04250f5.jpg', 'airplane_420257932_91a79f131f.jpg', 'car_2708361679_fd4f9e128f.jpg', 'car_2572249513_ba76b2b8e6.jpg', 'car_2483148791_79d334bfb0.jpg', 'cat_1728856065_61f4290857.jpg', 'dog_2140642161_4d2a4f5192.jpg', 'airplane_2585676484_b0d9fe37c7.jpg', 'dog_857507387_6824205ba9.jpg', 'cat_255186483_ed62ee27d8.jpg', 'car_98068793_5748e8b8b6.jpg', 'elephant_99995258_5d66772a78.jpg', 'cat_201964852_1817e956c1.jpg', 'car_2601664412_6147df0183.jpg', 'cat_450498790_2531839b40.jpg', 'cat_556418234_5030cd2676.jpg', 'car_2648602199_33653b9938.jpg', 'dog_406691012_817bbeba9f.jpg', 'cat_131841183_9f01bab747.jpg', 'cat_1072969881_c8cf8109fc.jpg', 'cat_544028649_29dfee7f96.jpg', 'elephant_2088386708_b84a8eb857.jpg', 'dog_421685335_f7e8b86e6a.jpg', 'car_2372975052_18475a0e89.jpg', 'dog_24600675_d514c279f6.jpg', 'cat_1095526988_7a288676e1.jpg', 'elephant_548776958_82fdc8d1ff.jpg', 'cat_441054480_ec489cd7dc.jpg', 'elephant_1410087513_228d547b74.jpg', 'dog_406635927_1cefe86380.jpg', 'elephant_101029976_a1098285ed.jpg', 'elephant_541688637_93504e95b4.jpg', 'cat_3156111_a9dba42579.jpg', 'dog_487311931_b1ab9e5bb3.jpg', 'airplane_560083791_8f59eb356f.jpg', 'airplane_1114918981_28de3f9b8f.jpg', 'car_2439114272_36ea943070.jpg', 'cat_7938264_9b0e24f0f7.jpg', 'dog_1162022434_87f7b89d87.jpg', 'dog_426617735_5b74ed234a.jpg', 'car_2350299260_e240d45df4.jpg', 'dog_2055437512_6ccd4b5949.jpg', 'car_2362880093_8065d7e3af.jpg', 'airplane_14945087_6dabf38c03.jpg', 'cat_134214901_b79b59a8b0.jpg', 'dog_69291956_f7be44e5cb.jpg', 'dog_493330324_ed05654ce0.jpg', 'car_1389641368_3626258d90.jpg', 'cat_289296107_632cde21c3.jpg', 'dog_1619430056_9714734968.jpg', 'airplane_2629026000_47d153f84f.jpg', 'dog_312298383_8984e4f5d5.jpg', 'car_2573022852_b19a0f9069.jpg', 'elephant_187382191_4b7eaf65fc.jpg', 'car_2224509128_18482bc226.jpg', 'elephant_433368816_d861cca742.jpg', 'cat_797587495_23df166c06.jpg', 'dog_201405955_944f3fa867.jpg', 'car_3347024_293ada0bd9.jpg', 'airplane_197248946_e1e0c636db.jpg', 'dog_185844804_4cd5e62834.jpg', 'elephant_215385360_f62d562381.jpg', 'cat_129108705_e66b66c48c.jpg', 'dog_381342603_81db58bea4.jpg', 'airplane_1510178251_ccca2d1547.jpg', 'dog_427046325_87d3539524.jpg', 'airplane_61873815_eac6dc1d48.jpg', 'airplane_2445512942_ab266628f1.jpg', 'airplane_1512312536_6f61a16a4e.jpg', 'car_2246512936_00d03fb490.jpg', 'airplane_118280927_e226078ae6.jpg', 'dog_137121654_2797793a9a.jpg', 'dog_312708354_27288d9178.jpg', 'car_2691689461_96d9876a7c.jpg', 'car_2416297192_b4ff2a87d8.jpg', 'dog_337123823_c7a59a44e9.jpg', 'airplane_2707596196_1047fa7b74.jpg', 'dog_426966809_9cb520f414.jpg', 'airplane_2583006281_1a66303a08.jpg', 'dog_426805065_f73853f2e0.jpg', 'cat_4844330_779d0c1932.jpg', 'car_2715757519_10af1304e3.jpg', 'car_2521350892_0ca1728548.jpg', 'cat_1181724194_f3475d88fb.jpg', 'car_2577062251_b7730929e5.jpg', 'cat_1382246820_a5f4d43ad0.jpg', 'cat_1140760871_35351b03c5.jpg', 'airplane_1427174685_590cbaa0d0.jpg', 'cat_2089004177_ae66c87b18.jpg', 'airplane_2179235172_c87fa7cdfc.jpg', 'cat_536306122_c45e305163.jpg', 'dog_1814628694_6b8fe40241.jpg', 'dog_1965271932_91c6255988.jpg', 'elephant_354730688_b3358aee7e.jpg', 'dog_1367281554_2b4936ebd5.jpg', 'cat_283032077_1d4ee1a1ba.jpg', 'airplane_2075802956_fdf9d917a7.jpg', 'dog_479504006_e89ab29c9b.jpg', 'car_2655426148_a49a7ed8f4.jpg', 'dog_1273840272_701b1e5b48.jpg', 'airplane_474083253_fd34283582.jpg', 'car_2210892916_cf13b68b8a.jpg', 'cat_1483890465_2bc92663ca.jpg', 'elephant_165870036_f6731a5c66.jpg', 'car_2628959964_e98abaa2b9.jpg', 'dog_2138993157_1fd1304f44.jpg', 'car_72193768_c9ef389f02.jpg', 'dog_312719355_18a997ced3.jpg', 'dog_1749059808_f528e332a9.jpg', 'car_2582731193_a886051e98.jpg', 'cat_300226420_49beef9efa.jpg', 'elephant_171250362_0dbdfb9c43.jpg', 'airplane_759824712_34e9500362.jpg', 'elephant_792246097_3edefdf4d1.jpg', 'dog_18490844_5c1f793f24.jpg', 'airplane_1304308103_4c33f985e3.jpg', 'elephant_170299685_7d3150eac0.jpg', 'elephant_342367081_234bf66913.jpg', 'elephant_86750954_c8f2274d34.jpg', 'airplane_35607063_db8db2b29e.jpg', 'elephant_182069030_3078757d15.jpg', 'cat_1195913329_72adfed00b.jpg', 'cat_2053614070_1ed1fedfff.jpg', 'car_1388826099_01505abea9.jpg', 'car_2426956295_a2b2b43d6f.jpg', 'dog_426798942_f48bc57af7.jpg', 'cat_104390249_b87e26dee7.jpg', 'car_142291077_fd0d80364e.jpg', 'dog_2129624661_10e811fb97.jpg', 'car_2288154692_ee16396db6.jpg', 'dog_143617264_f622cf7db8.jpg', 'car_2615594064_1458efa154.jpg', 'elephant_543221395_509bcbdbdd.jpg', 'dog_2021522094_e3998b18e0.jpg', 'car_2577717073_fc2d6e6c76.jpg', 'airplane_195838135_20a4a7c226.jpg', 'airplane_2724906517_414001f8e9.jpg', 'dog_959590073_b411321069.jpg', 'elephant_36404958_4078f4363a.jpg', 'airplane_874191453_e5dee4cb94.jpg', 'car_2176686754_a1c6c08328.jpg', 'cat_965676411_ea7f678902.jpg', 'car_2431260901_d97aa49f22.jpg', 'airplane_1787934457_c535e16466.jpg', 'dog_441699610_6f574d3d09.jpg', 'car_606185496_80e6728b79.jpg', 'elephant_108331635_4dccd99e9d.jpg', 'airplane_2558286754_bf77986091.jpg', 'cat_103392464_9743e196fb.jpg', 'elephant_74313205_9ae585e3f3.jpg', 'elephant_549815003_2a3c291dfc.jpg', 'elephant_2191990658_7bbdac9e18.jpg', 'cat_521364296_6554dbf439.jpg', 'cat_70401320_912e4d2d73.jpg', 'airplane_2592850912_4460643093.jpg', 'elephant_289736736_a424175449.jpg', 'car_2464033235_8a2beb9be2.jpg', 'elephant_2178210962_0cdff15630.jpg', 'dog_28088235_25732d45e1.jpg', 'cat_327100037_76e397a66f.jpg', 'car_2735197452_60b4cdda68.jpg', 'car_2580104716_2afc272a8e.jpg', 'elephant_456207872_097116eaf0.jpg', 'airplane_1645151575_571ef17756.jpg', 'airplane_2273100629_0f78b04435.jpg', 'car_374294882_6a5cc96ffb.jpg', 'dog_1517731866_a2d164269d.jpg', 'dog_2042955703_3f7e0f89ae.jpg', 'elephant_1081536705_fd7d628b7f.jpg', 'airplane_1421491245_f2ffce1d75.jpg', 'dog_354345091_fd0785b6f8.jpg', 'cat_347285520_c9f4dc030b.jpg', 'airplane_2455044316_7a60dc6bfc.jpg', 'cat_42584669_6ab87d4ca1.jpg', 'elephant_543107356_582698a955.jpg', 'dog_76169321_2071d060ac.jpg', 'cat_718539612_b344a6a2c8.jpg', 'elephant_23270726_ab97f0a99e.jpg', 'cat_459663811_5581b5e73e.jpg', 'car_245028675_4a4bbede9e.jpg', 'airplane_417566632_d7dd01a2e2.jpg', 'dog_24600676_1eed9941db.jpg', 'dog_517654963_f91cb9d05f.jpg', 'elephant_1176787940_266553d518.jpg', 'elephant_290934369_9dec6565b1.jpg', 'cat_1029412358_7ee17550fc.jpg', 'airplane_232444751_a428324572.jpg', 'airplane_192293095_caf71222e3.jpg', 'elephant_329431625_890b4bd4ea.jpg', 'elephant_742904115_ad0fb96187.jpg', 'car_285526431_0841339810.jpg', 'cat_339533190_9cf17b4d96.jpg', 'elephant_289721989_be9987c13c.jpg', 'car_2433831441_cfcebfa177.jpg', 'cat_464759752_9c09d289fe.jpg', 'airplane_2393193881_f53fdc9593.jpg', 'cat_567276998_81dbee8ec0.jpg', 'cat_807830062_43db2901c8.jpg', 'cat_371069587_d70fe0713b.jpg', 'car_2232088465_17629e7959.jpg', 'elephant_311931781_d634aeb4cb.jpg', 'car_2580618320_7ae76cceb6.jpg', 'car_2224497766_1de83768a7.jpg', 'dog_113917933_d5629f615c.jpg', 'cat_565727409_61693c5e14.jpg', 'airplane_2379872429_1208a92090.jpg', 'elephant_2177734660_a4a9176274.jpg', 'airplane_388364576_3b1ef11d02.jpg', 'airplane_1509512914_0f7cc298a7.jpg', 'car_2589199493_fca6f32109.jpg', 'car_2690922282_b873bd2d78.jpg', 'dog_406840830_b256dd8600.jpg', 'dog_1356436810_e58eefa640.jpg', 'airplane_389647659_05da919bfc.jpg', 'car_2698407298_857a7ed050.jpg', 'elephant_20362537_956ae4bfbd.jpg', 'dog_1633050101_f09ef9b726.jpg', 'elephant_1427378337_bc39e27bb6.jpg', 'airplane_15704914_ea05e564f3.jpg', 'elephant_103658292_dd28eba3ba.jpg', 'car_950211203_8486492df7.jpg', 'car_1389097703_1c43b0bf0e.jpg', 'elephant_52773888_f59989d4ff.jpg', 'elephant_560897101_784224d03a.jpg', 'elephant_1799470346_21cd2f0d26.jpg', 'cat_2051902649_b2d41ccb75.jpg', 'cat_2058876221_cc71cbbe8f.jpg', 'dog_8814614_832648ff86.jpg', 'elephant_171247905_aa44f6ccb4.jpg', 'elephant_374186554_7c629ce2c8.jpg', 'cat_416584755_9feba3ab33.jpg', 'dog_406764144_ca23bc7907.jpg', 'dog_2043751398_064688fe0e.jpg', 'cat_1336922314_8f4ef9aef6.jpg', 'car_2632810353_ef6a7bb5ee.jpg', 'dog_312730899_e3e2f9b604.jpg', 'car_2297366851_5c46e73833.jpg', 'airplane_233617389_831644ed1d.jpg', 'dog_858053998_f67f6d35f1.jpg', 'dog_387243621_1896b84685.jpg', 'cat_203513295_3a2d83bbc1.jpg', 'car_2633668806_2b68667020.jpg', 'elephant_231279467_386176e63f.jpg', 'dog_406660980_daf3ffa8c5.jpg', 'elephant_1919497998_3ca0e4b024.jpg', 'elephant_379172906_fd13b43e27.jpg', 'airplane_2258726258_285db3a1e8.jpg', 'cat_92019032_a4a5367bb8.jpg', 'dog_437141135_1dc2a04218.jpg', 'airplane_140579971_4735dc8c0f.jpg', 'car_2691438675_a5536b87ce.jpg', 'elephant_1164041552_9609a563b8.jpg', 'cat_597159250_7c93b93b2f.jpg', 'dog_211507815_2c72ad7af9.jpg', 'elephant_300447424_137b1131b2.jpg', 'cat_1074598047_9c49d82aca.jpg', 'car_2383370810_bea2b651b8.jpg', 'car_1344191937_6ee9102873.jpg', 'elephant_688293272_ceadbad172.jpg', 'car_2458972976_50de894f75.jpg', 'airplane_198829161_2d87e58c67.jpg', 'dog_1402664549_9a1802c3fa.jpg', 'elephant_113236215_45bdefcb47.jpg', 'cat_64486923_5e33b6db60.jpg', 'dog_2062640615_eee2e0b952.jpg', 'car_2448297953_272c37af3d.jpg', 'car_2452533800_2bc256f369.jpg', 'airplane_327998390_0308fa56e8.jpg', 'airplane_113404493_40cfb49dcd.jpg', 'airplane_697902907_c378172b23.jpg', 'car_2494857142_c045b4f429.jpg', 'cat_801381633_042459289e.jpg', 'elephant_171247473_52ecaae406.jpg', 'airplane_2562146713_50b4bf64f1.jpg', 'dog_96187754_4b7d63660c.jpg', 'elephant_416448017_bd0fc6941f.jpg', 'airplane_456057568_afafd5dd46.jpg', 'cat_493758678_f3a4df8d6c.jpg', 'dog_2050995028_f94ae228fa.jpg', 'airplane_2393189017_4dd3a09d16.jpg', 'airplane_1096362699_813de4c2e6.jpg', 'dog_140532446_4ade7b6001.jpg', 'car_2506391186_8a5cf5951f.jpg', 'elephant_477832069_bf485c4329.jpg', 'elephant_170309517_c6c1b5c915.jpg', 'airplane_758874752_81a7980887.jpg', 'elephant_170320513_325553770f.jpg', 'elephant_496973199_f73c1490b4.jpg', 'car_2695534564_7c92c64507.jpg', 'airplane_2333998060_991dc96b51.jpg', 'car_473811436_2f5e2282b5.jpg', 'car_2446435598_734b69c326.jpg', 'car_1389773426_78e0b09db1.jpg', 'dog_426618727_f2e711c7eb.jpg', 'elephant_104255704_e72d1336ba.jpg', 'airplane_48629591_63b3ba3ed5.jpg', 'dog_812682456_c04c9d6d82.jpg', 'car_2431968404_7b6f24e053.jpg', 'car_447281504_3db6c4dbb9.jpg', 'car_2224435075_8cf59bda7c.jpg', 'dog_140851314_0b7c154bcc.jpg', 'cat_1845262280_b5ba3ffa6f.jpg', 'cat_441068932_8915b6de4c.jpg', 'car_2392195138_edce99f261.jpg', 'airplane_38364046_24d9cca571.jpg', 'cat_2532956_1bba28187c.jpg', 'airplane_2110882407_db1564e294.jpg', 'airplane_2281353209_fbf12be250.jpg', 'cat_1425549611_ee600950f7.jpg', 'cat_2143568817_87cd9db05f.jpg', 'car_2301463081_053425a102.jpg', 'airplane_2649486309_e219299b24.jpg', 'elephant_311928263_610650c9fb.jpg', 'airplane_257792243_7ad6cbe58d.jpg', 'airplane_240078286_8be1353fd0.jpg', 'airplane_605227812_815c3f2106.jpg', 'car_2336002936_bc0f143705.jpg', 'cat_120259010_5d0791c5fe.jpg', 'airplane_976461656_8b0c45b545.jpg', 'airplane_84652928_1e5f946977.jpg', 'elephant_518201928_7c2ae4fb60.jpg', 'car_2223453858_89496c505a.jpg', 'car_2533882384_32c808c546.jpg', 'car_2630841172_1713a4148c.jpg', 'airplane_1597746275_af78bbc4c8.jpg', 'dog_887932010_2b24d8be1d.jpg', 'cat_283032138_3c9a892d25.jpg', 'airplane_131661659_8a336a7d72.jpg', 'car_2589749852_68c3c02dec.jpg', 'elephant_339310178_02ad8c564e.jpg', 'elephant_847919306_2b44854321.jpg', 'cat_459655198_dc3f08d0bf.jpg', 'elephant_1215025358_0b8bbe38b8.jpg', 'elephant_171260648_04a539d156.jpg', 'cat_178552778_3d8c84d090.jpg', 'car_2628194225_3254e2624d.jpg', 'cat_838925728_5b6e50d797.jpg', 'cat_235165696_6fe5677fb1.jpg', 'cat_965676843_a8f599c9f7.jpg', 'car_2243989357_c73b7b1353.jpg', 'car_2464763251_ed70efa33d.jpg', 'dog_2188574_ef6837f719.jpg', 'elephant_1574758097_567d412816.jpg', 'dog_1386827685_5c54da19bf.jpg', 'elephant_847057903_78f8014971.jpg', 'cat_1372697816_2233d0939b.jpg', 'airplane_1862544221_eea4bc26ea.jpg', 'cat_495308681_e317861b3e.jpg', 'car_2617142107_9bb7f7a1c0.jpg', 'airplane_1099941359_7ae0572599.jpg', 'dog_436013849_6c5003a231.jpg', 'car_2359095828_4b590d9ec7.jpg', 'car_2676976763_4ea14b3d7e.jpg', 'airplane_449795604_a49f916136.jpg', 'elephant_385865937_33c03eb3e9.jpg', 'cat_64481443_8630d661ac.jpg', 'elephant_376009394_aeafa0d8c4.jpg', 'elephant_473576678_72879ec91a.jpg', 'airplane_385346356_171e5dce0a.jpg', 'airplane_2321952758_bd792e5156.jpg', 'elephant_184549563_d043ddf94a.jpg', 'airplane_2333181485_09185016c4.jpg', 'cat_196885432_3bca121058.jpg', 'cat_299836529_e6ade8d23f.jpg', 'airplane_261275907_01bade9983.jpg', 'elephant_39120659_9a42e43e9d.jpg', 'elephant_63125641_3a04352aae.jpg', 'elephant_171241526_de2150f4ce.jpg', 'elephant_81317196_a96223ef04.jpg', 'car_2661664016_2be5d991b6.jpg', 'elephant_1393028287_487e3bf3ba.jpg', 'elephant_847037705_20420b2121.jpg', 'cat_596906845_87bd2499df.jpg', 'dog_484566503_ae0db5014e.jpg', 'cat_1326762140_da4f016132.jpg', 'cat_450160344_ebc6c5d6ea.jpg', 'cat_436769703_a24a4bc7db.jpg', 'car_2724233665_47db8bb54b.jpg', 'airplane_2165869557_a53b86e0ee.jpg', 'car_750795125_35af5efa7a.jpg', 'elephant_422223218_f2659d3ed9.jpg', 'dog_436013859_793d870b6f.jpg', 'airplane_1037094054_6f3efbae8f.jpg', 'dog_426580611_4391fe2d16.jpg', 'cat_261385585_d43b7b09c3.jpg', 'cat_798193808_7aea050511.jpg', 'airplane_549733728_8fc9ec082d.jpg', 'cat_439909665_262dc4a0fe.jpg', 'elephant_1120292274_f6cf1b3f2e.jpg', 'car_2250740904_8bdb82c09c.jpg', 'cat_1715424859_fc440ab762.jpg', 'cat_906952515_2758937d79.jpg', 'car_2648659315_3c36a847d7.jpg', 'dog_314948754_73388f9282.jpg', 'airplane_2195326158_6ccdcaa0a5.jpg', 'dog_976701429_38dd42c3ba.jpg', 'elephant_148368717_8b8a5f74ef.jpg', 'cat_1677417971_d431d2f2bb.jpg', 'dog_688939929_9feaa7e4f9.jpg', 'car_2060326215_d0289b872e.jpg', 'airplane_132700619_807e077062.jpg', 'airplane_237218693_f3400a0676.jpg', 'elephant_456667815_0fb8872ca6.jpg', 'dog_477040221_c1a354a958.jpg', 'dog_314964795_7dafd93b46.jpg', 'elephant_342367162_7a144432f3.jpg', 'dog_976284069_dc3401cfd4.jpg', 'elephant_1025410653_2fe15822ea.jpg', 'elephant_1379461791_b63821bbfd.jpg', 'dog_1844653713_5fc15cb6c8.jpg', 'airplane_2275808698_8d5c84e679.jpg', 'elephant_502996488_1059d14488.jpg', 'car_2464092263_06384b6ee5.jpg', 'car_2097258855_0f1b7811e9.jpg', 'elephant_692108952_9532cbf31a.jpg', 'airplane_2165868395_2f965cecd3.jpg', 'dog_2034128795_248f24bed6.jpg', 'dog_154066725_96258b6f39.jpg', 'dog_298325020_925ce65f7c.jpg', 'elephant_176912049_634aaee234.jpg', 'cat_504761099_f551dcc330.jpg', 'cat_458865943_58cac7c564.jpg', 'elephant_132596043_36524195bc.jpg', 'dog_406769132_ea0b09fad8.jpg', 'car_1260326450_01fefc2d7a.jpg', 'dog_239570696_ae9feffabd.jpg', 'airplane_1976721688_0aa22c4469.jpg', 'car_2624845332_c6df2fe7dc.jpg', 'dog_360325723_2492dff127.jpg', 'car_2061069980_a1b87aaef1.jpg', 'dog_1181925767_d052d9564c.jpg', 'airplane_2467524810_5d89175754.jpg', 'elephant_7196289_c87ca2bf1c.jpg', 'airplane_495254441_f751d7c7d8.jpg', 'cat_1407544421_76a8d1099a.jpg', 'cat_963650154_98d63b6998.jpg', 'car_2619345247_d9fc17075e.jpg', 'car_2600152632_6d4f1d7f4b.jpg', 'car_2060217143_9725741a28.jpg', 'elephant_2244321706_4e8574d1c1.jpg', 'elephant_1379458217_2bbbc7d468.jpg', 'cat_366783372_ca44c73bf6.jpg', 'airplane_2545180499_f91182afd9.jpg', 'cat_49606677_3e64cc676e.jpg', 'cat_649739480_0491b2db5e.jpg', 'dog_406709965_3ec22f1991.jpg', 'elephant_273914634_00e9f300e9.jpg', 'car_2599635685_e5bc82643f.jpg', 'car_29891873_dc3d851b1d.jpg', 'airplane_2550665196_bc9da9a3a2.jpg', 'cat_453377309_d2930a27f7.jpg', 'cat_2019585492_8915f64bde.jpg', 'elephant_1575625282_15ef5262f2.jpg', 'cat_917206849_c44eec3096.jpg', 'cat_223053154_6ac089b412.jpg', 'dog_146403300_0128782865.jpg', 'cat_1015160097_c4103501de.jpg', 'elephant_499360936_b0181b090b.jpg', 'dog_465166701_d2ec8b8fab.jpg', 'cat_1041842900_1c5202b05c.jpg', 'elephant_63332283_377f8ab529.jpg', 'car_2690113895_507f0fb71a.jpg', 'dog_426614274_d356863551.jpg', 'dog_106947824_3c2d4a4abe.jpg', 'dog_528940617_defa174ef8.jpg', 'airplane_17669410_8ab34f9f7f.jpg', 'airplane_528077003_23ae3a6997.jpg', 'airplane_138383969_d4887f4344.jpg', 'dog_185003176_ad9dc0aabb.jpg', 'cat_2221095383_6fb6fff22e.jpg', 'car_2586427847_be81a6ff77.jpg', 'cat_778132371_aabe7d2876.jpg', 'airplane_1975832735_f717f3ec9a.jpg', 'dog_465164284_3a6cdd3cf4.jpg', 'car_2590053290_74241a2870.jpg', 'elephant_288773945_0fad95d3e2.jpg', 'elephant_70868223_3f5b4722aa.jpg', 'airplane_1541385583_380c22306a.jpg', 'dog_312791282_3e81aec7e1.jpg', 'car_2302281494_0cb442680b.jpg', 'cat_238200853_ab3516a271.jpg', 'airplane_2469629787_44829ae0e6.jpg', 'car_2666463976_54eedf3bb0.jpg', 'elephant_399366378_f599879006.jpg', 'elephant_52774012_f70b1e12f8.jpg', 'dog_100962839_4828f9b1cf.jpg', 'car_2491564829_f51586bcfa.jpg', 'car_2691751663_2aa5f2b6ef.jpg', 'elephant_215475669_9d447b0edd.jpg', 'dog_2042955483_e186f3bb88.jpg', 'car_2552918917_f471f9aabc.jpg', 'elephant_379639575_9d492b3a0d.jpg', 'elephant_743822064_7308559384.jpg', 'airplane_2213040904_4c67f48c79.jpg', 'cat_125127356_4ee7bde116.jpg', 'elephant_1599373937_311ef4b444.jpg', 'dog_113020043_beb1378633.jpg', 'car_2476598462_f5a95c12e4.jpg', 'airplane_2725506027_f8bd683510.jpg', 'elephant_11551658_04aab0e202.jpg', 'dog_515415369_5b5258ea94.jpg', 'elephant_225554695_b1a2fbdfca.jpg', 'dog_492307159_51c4c56907.jpg', 'dog_1843796562_d4d08cc811.jpg', 'dog_503138718_cbd7cc0012.jpg', 'car_2444400863_546d580bcd.jpg', 'dog_421788817_9bb86dee99.jpg', 'airplane_2038919327_79e97b380b.jpg', 'airplane_605901727_0b72d4ac31.jpg', 'dog_2021461032_1fee18b98b.jpg', 'dog_438525880_4ce82ca11b.jpg', 'dog_427054068_924e526998.jpg', 'elephant_2222907809_e42ccb49db.jpg', 'elephant_477812150_09248db726.jpg', 'airplane_197201220_425b3a39ef.jpg', 'airplane_2290712466_7ece520a1a.jpg', 'dog_4026641_b60f7d17ff.jpg', 'dog_111777013_ea18a69caf.jpg', 'airplane_604946715_b343afe46a.jpg', 'elephant_1420295068_31cae37b48.jpg', 'dog_1104966433_698d051187.jpg', 'elephant_171258261_656a4576f5.jpg', 'airplane_523948573_e03f2c5dd3.jpg', 'cat_1600856989_835664ad28.jpg', 'car_106874502_e955e102f0.jpg', 'car_2703530624_edb2701d83.jpg', 'elephant_252287217_c256bb690c.jpg', 'airplane_2322787253_f6f7b74596.jpg', 'dog_1403554490_2cfac9ef41.jpg', 'airplane_2258717758_79fbf456e9.jpg', 'dog_489062128_67bba4fef1.jpg', 'cat_202726676_a0796b23bd.jpg', 'cat_360006384_d0e2963ffd.jpg', 'dog_420787101_945dd39972.jpg', 'cat_62347433_f519750764.jpg', 'airplane_407088868_e2ebc1526a.jpg', 'airplane_125588728_568ae1f0b4.jpg', 'airplane_2337924477_a8f10f2b28.jpg', 'elephant_543112256_1cf60dc0e4.jpg', 'dog_94765224_b62d10f5bf.jpg', 'car_2661858724_158d6b3168.jpg', 'dog_406844047_fd6291112a.jpg', 'dog_312744618_5e2a47ce3d.jpg', 'elephant_284351909_3feabcbffc.jpg', 'cat_1453599760_6d1b56a759.jpg', 'car_2350300496_73ca440155.jpg', 'elephant_543218189_dcefb1a310.jpg', 'elephant_246302635_0ae438658c.jpg', 'dog_1414089898_5858de884c.jpg', 'cat_1916815270_9dbc30fa42.jpg', 'dog_421707961_f5c41d577e.jpg', 'car_2301196459_b337e86bc7.jpg', 'elephant_456671157_04d69a95df.jpg', 'cat_806067483_6e158eebae.jpg', 'elephant_129281385_1a1eeb729f.jpg', 'car_977074978_23dc5a4037.jpg', 'cat_263883487_ff49977e8c.jpg', 'car_2579888393_d6a3249709.jpg', 'airplane_324141414143.jpg', 'airplane_465564219_94a9a4f352.jpg', 'airplane_667898487_003069fb9e.jpg', 'dog_123112077_eb473a16ac.jpg', 'dog_314290999_efe6f29aa8.jpg', 'dog_482969411_606de7f560.jpg', 'dog_677692881_4874db6aa6.jpg', 'dog_426581883_fb4d65a518.jpg', 'cat_808812970_12dc7c4f73.jpg', 'car_1719233384_e4a9d0116b.jpg', 'car_2505784372_a752643112.jpg', 'cat_125127076_30777623ba.jpg', 'car_2216330332_e462046110.jpg', 'airplane_64831538_31889a4190.jpg', 'car_103660865_b43c8c546b.jpg', 'elephant_1371597085_668b079f8d.jpg', 'car_2649449358_fed712e03d.jpg', 'elephant_311927969_ce0b206db1.jpg', 'airplane_2315991870_3cd2a3cded.jpg', 'airplane_276274872_6c9cf8f062.jpg', 'airplane_2465717341_0fe4f16f30.jpg', 'cat_45802038_a3f5a66ea3.jpg', 'cat_2093468793_482e44c1db.jpg', 'cat_1229801520_313f0e4647.jpg', 'cat_1172186079_d448b27e65.jpg', 'airplane_324134134.jpg', 'cat_809663020_7ce9d0899f.jpg', 'airplane_2571877131_befb70207b.jpg', 'elephant_173043507_3fe59df868.jpg', 'cat_70401318_5071e1729d.jpg', 'airplane_1977549912_ea8cbf7e96.jpg', 'airplane_1414910830_319ac35980.jpg', 'airplane_528076249_95d7739148.jpg', 'cat_1907149345_89c10497cc.jpg', 'elephant_133963958_e58bb7c306.jpg', 'car_2295426900_bbfa44a917.jpg', 'elephant_1585201543_1d5955ffa6.jpg', 'cat_156688489_0efcdad0c0.jpg', 'dog_1407117059_4b555c1669.jpg', 'dog_25516873_a2f3c2a231.jpg', 'elephant_171246401_c3a0d7f051.jpg', 'elephant_1387609668_f8f8f2fc4e.jpg', 'dog_2016460681_c12044f593.jpg', 'airplane_1731472229_6bf491f5bc.jpg', 'dog_2800688_afe83c164a.jpg', 'car_2667525380_705b9865aa.jpg', 'airplane_2692475491_66b00de4c0.jpg', 'elephant_41681365_397e2ec373.jpg', 'car_1603630995_6d82cee3b3.jpg', 'airplane_6572489_bf7440418d.jpg', 'elephant_246301812_bd89ba2fe0.jpg', 'cat_2126527211_599c9725d1.jpg', 'airplane_1178804844_a133b9e2d4.jpg', 'elephant_1185858184_d592cc2f82.jpg', 'dog_324552393_53ac5d3769.jpg', 'car_888121_b8c0a747fa.jpg', 'cat_466996656_868d772341.jpg', 'elephant_2038153276_bb2ddaf570.jpg', 'cat_164973134_d6799c5db4.jpg', 'car_2732335145_e76d55de51.jpg', 'airplane_293486558_c4629d3862.jpg', 'airplane_2213040204_3c5b1e979e.jpg', 'dog_406649394_8a58f9d351.jpg', 'cat_68206548_a2a88cc200.jpg', 'car_2432091658_c9e19cf1f8.jpg', 'elephant_1511472618_45b89736e8.jpg', 'cat_2222437178_c0c638bc41.jpg', 'cat_174732335_7275892317.jpg', 'car_47410016_59e666c0b0.jpg', 'car_2512760701_8cbe2ed2fd.jpg', 'airplane_930116286_40004772c5.jpg', 'airplane_291232749_e2dbbecc2e.jpg', 'airplane_2357605177_7c9d333532.jpg', 'elephant_173174590_2fe3fb1695.jpg', 'airplane_2602427969_c132208676.jpg', 'car_194742400_81e8965c25.jpg', 'airplane_150553917_8cc96f4039.jpg', 'elephant_27590184_a3ec36e96a.jpg', 'dog_2125549540_30f99de0e1.jpg', 'dog_437195773_d2a202d39d.jpg', 'car_2691453619_0def922afe.jpg', 'airplane_1382740959_a8eb7edb6c.jpg', 'dog_37412155_69a7bd447c.jpg', 'car_1098694903_ff0d9acf87.jpg', 'dog_1403553806_fd89a80e40.jpg', 'elephant_1195585627_aa1f126c3d.jpg', 'airplane_19016283_03f8fce2de.jpg', 'cat_40489215_3c98e1b7de.jpg', 'elephant_1023104513_7cfc3ed0e4.jpg', 'cat_139540076_64446dd631.jpg', 'airplane_166520366_87d90639b4.jpg', 'dog_39340254_4ea6a185d4.jpg', 'dog_325511921_50a16216d8.jpg', 'airplane_2312885795_7510d5de23.jpg', 'dog_1635365504_152b40563c.jpg', 'elephant_288773629_bff278d5b6.jpg', 'dog_1387352888_d3d644abb7.jpg', 'car_2721938867_29895a47e6.jpg', 'elephant_438112447_b8c10bedf5.jpg', 'airplane_41760512_1905fa4632.jpg', 'dog_18607259_f348767a35.jpg', 'dog_406700170_d931d7e3ee.jpg', 'dog_146461998_a2c11854c6.jpg', 'elephant_543114850_fad8da2728.jpg', 'cat_1027958772_f6ab8af10c.jpg', 'elephant_1192821894_3d499c9f6b.jpg', 'cat_1365608941_089b423cd2.jpg', 'dog_2225856989_63a7a0c68d.jpg', 'dog_65922179_fe6774cccf.jpg', 'dog_1045004536_ea846b9f88.jpg', 'elephant_96983574_e3e18543b2.jpg', 'elephant_375510721_7b3df23319.jpg', 'elephant_226299175_f29676a940.jpg', 'car_265689760_ec7aef7f13.jpg', 'car_1700378831_db202ab909.jpg', 'car_2478649244_2402393a90.jpg', 'dog_437202645_9ce9130bcc.jpg', 'airplane_581969595_b183827f4c.jpg', 'dog_437195837_62f9c78e5a.jpg', 'dog_312732997_5b100ce2a6.jpg', 'cat_777007108_7185b9178d.jpg', 'car_2538560700_5818000192.jpg', 'dog_528837108_046c6bb274.jpg', 'airplane_2480212455_85835584db.jpg', 'elephant_543112586_b428a93db5.jpg', 'elephant_329433376_343b1f7582.jpg', 'elephant_456667505_14c4a06f20.jpg', 'car_2624822952_5fcf3f140b.jpg', 'cat_845155935_1df15c0164.jpg', 'cat_70401319_020a65b466.jpg', 'elephant_510541950_7a4ee344d7.jpg', 'dog_1517736008_ce4a644ba9.jpg', 'dog_504188138_b3b4f848fb.jpg', 'dog_1386834139_22a3aab4d6.jpg', 'dog_436075642_fbb32aee5c.jpg', 'elephant_1337362441_59652d92bc.jpg', 'elephant_847057997_c0ddb16150.jpg', 'cat_1286961078_102af29059.jpg', 'airplane_194351108_c3f14b576b.jpg', 'dog_151838410_88d0d8198b.jpg', 'cat_128230843_ffc20cb0b9.jpg', 'car_2240079756_81b9820f45.jpg', 'airplane_33622377_9419ebc75f.jpg', 'dog_322693296_8a7418c9f3.jpg', 'car_1719163907_860883cbe8.jpg', 'elephant_109708247_a8a1909ae5.jpg', 'dog_165845933_14520daea0.jpg', 'cat_129482654_17dd592319.jpg', 'dog_421783705_f4a49998fe.jpg', 'elephant_171251359_939ba015aa.jpg', 'dog_1579365008_f7aef70e03.jpg', 'cat_452246294_97d9ed433c.jpg', 'car_2660606120_b6c334c61d.jpg', 'elephant_541692555_4977db3c2c.jpg', 'elephant_879887722_f9b694e107.jpg', 'elephant_1409868595_c30909b540.jpg', 'elephant_262793989_63b199b8b3.jpg', 'airplane_1977534068_f2c3a9c271.jpg', 'cat_2231206003_461ba2b7b9.jpg', 'dog_690883918_0a2ebf2d4a.jpg', 'car_2624019583_c7973af0c7.jpg', 'elephant_915869297_fbbd74b73d.jpg', 'airplane_116852124_1a52caa0a8.jpg', 'car_2724234723_ee795f049a.jpg', 'dog_854717907_527a77810a.jpg', 'cat_456913958_2852b52521.jpg', 'airplane_217091105_e2f96e6480.jpg', 'dog_123347917_3e968b4384.jpg', 'cat_512489293_24b4dcbc90.jpg', 'dog_178779808_a24e34cb25.jpg', 'cat_505539125_d7193beb76.jpg', 'cat_433441976_dc6935c8e5.jpg', 'car_2413524916_141bc56e3f.jpg', 'airplane_234092124_c35aa06adb.jpg', 'dog_312298841_5b050ad00b.jpg', 'car_1719163879_e056918f46.jpg', 'airplane_388364587_64b2370a82.jpg', 'cat_1813361872_317db8c9cc.jpg', 'cat_974367362_4ac829d100.jpg', 'dog_1876067475_f6adebcf54.jpg', 'elephant_499280318_5e706c8316.jpg', 'car_2451494761_39155daeea.jpg', 'car_2724817222_5bcb0219ff.jpg', 'cat_311234045_257a6f0ce2.jpg', 'dog_426751489_7798a17d73.jpg', 'car_2630127249_81a4eb6d90.jpg', 'dog_86501712_dd26f94163.jpg', 'dog_2037687867_bf62dfd311.jpg', 'elephant_101030511_ea0eb887d0.jpg', 'dog_1392988620_492c3f2e19.jpg', 'elephant_1393026831_7fdf37f14f.jpg', 'car_2656602122_8fc8bde8c8.jpg', 'airplane_2178445571_4c966db217.jpg', 'elephant_1372523762_3a0b0fd24b.jpg', 'cat_2222865249_1d23861afa.jpg', 'car_1895554483_e861f59c9b.jpg', 'cat_396186579_62d6907b77.jpg', 'dog_345019213_f8b87c5680.jpg', 'car_2667551478_90e499d286.jpg', 'car_1510993471_913a3912b9.jpg', 'dog_79947983_c3c808859e.jpg', 'car_465826793_cef139ecd4.jpg', 'car_2409438069_7afa0e81c7.jpg', 'cat_1654614928_c1b417b5cf.jpg', 'elephant_792219423_e356cc8cae.jpg', 'elephant_1068986661_7cc0df9a4c.jpg', 'elephant_518072200_165bf6e217.jpg', 'elephant_90054370_10907c8801.jpg', 'dog_274363411_b5ded28228.jpg', 'elephant_246315570_7a42cf3a17.jpg', 'airplane_512716303_246924467c.jpg', 'elephant_52773365_7018dbcef6.jpg', 'cat_63785988_c16c10b4e5.jpg', 'airplane_1429603049_b96c31e460.jpg', 'dog_129048697_7383737389.jpg', 'elephant_329431271_10c203afd1.jpg', 'dog_1138807082_9fffec94d2.jpg', 'elephant_170307822_4b30f3c2d1.jpg', 'cat_464436117_d10c4e637a.jpg', 'airplane_2105724064_43974b0c4f.jpg', 'car_455739898_8b6ffb365f.jpg', 'cat_456913874_a4c5dab950.jpg', 'car_432645478_aafd3c6eba.jpg', 'elephant_1331022573_7f74cee14e.jpg', 'cat_254021770_f2a43de348.jpg', 'dog_492278573_eff85b64f2.jpg', 'car_2331813646_8fef6cc060.jpg', 'airplane_345090920_9d05ea34f5.jpg', 'elephant_2222909481_4495bc258d.jpg', 'dog_511689397_c9e2b48f39.jpg', 'cat_1731826533_0dd2c03a78.jpg', 'car_2661766476_3f58b7f47a.jpg', 'elephant_123639259_adf0f73915.jpg', 'cat_318743249_518f01c97e.jpg', 'airplane_2724914815_151610eca6.jpg', 'car_2116965763_923c90ee33.jpg', 'airplane_181817215_f29a204095.jpg', 'car_2385341496_c588fe643d.jpg', 'car_2225360964_a948346207.jpg', 'car_2685497486_0706dd9d82.jpg', 'car_2600176544_f5a87483d9.jpg', 'elephant_374182918_81e1d22a0c.jpg', 'dog_431241988_cb3edbe73d.jpg', 'elephant_1574770997_e8303688d8.jpg', 'car_160484546_e0aac3cb54.jpg', 'cat_1259825348_6a2aa94e8d.jpg', 'elephant_215551816_22ebb06cd9.jpg', 'cat_472723151_d6e5cede19.jpg', 'elephant_2211843203_8339084055.jpg', 'car_2436617976_7bb581d2d0.jpg', 'airplane_108805442_29df98caae.jpg', 'elephant_171259385_deb116d13d.jpg', 'cat_1413814714_f174b7a5af.jpg', 'car_2589437780_5b2100db77.jpg', 'airplane_838419299_b3c260232a.jpg', 'dog_426856050_719efacb29.jpg', 'airplane_114324557_207c56f408.jpg', 'cat_2088628513_71b9bcdc22.jpg', 'car_1352679678_74511f4eed.jpg', 'airplane_64200950_3861b838dc.jpg', 'elephant_266837674_2bc5d661b0.jpg', 'dog_355626022_44a32dd17a.jpg', 'elephant_173175148_631707ed0c.jpg', 'airplane_388347692_7f189e4a1b.jpg', 'airplane_229797795_e12081dda1.jpg', 'dog_406714879_928435958c.jpg', 'airplane_178657486_33874a6615.jpg', 'cat_331620804_e315322a82.jpg', 'cat_1561238993_514ec89dc2.jpg', 'cat_1971410100_6ba6081358.jpg', 'car_1434492747_8d59257047.jpg', 'cat_616118242_5025ef5f0d.jpg', 'elephant_1022044420_8470e1dba4.jpg', 'elephant_173174809_69004c84e6.jpg', 'cat_846864750_22545a5e6e.jpg', 'car_2504675586_4bbc1ec082.jpg', 'airplane_1037161676_42e3193128.jpg', 'cat_213023529_8d84375b05.jpg', 'car_132816355_320463d312.jpg', 'cat_416625965_f3c3f39cf6.jpg', 'elephant_477830757_487ef327ca.jpg', 'cat_2048137462_dcaa3cd495.jpg', 'elephant_52774157_598acf4e4f.jpg', 'car_2319626512_73fe2db207.jpg', 'elephant_171258804_f3ec29510a.jpg', 'airplane_2585672732_7e7d9b5d05.jpg', 'airplane_2234973118_366fec3763.jpg', 'elephant_275030244_14d0c8adea.jpg', 'cat_2053642974_da6791e91f.jpg', 'cat_799795603_83d1c59596.jpg', 'car_2619327487_017fededca.jpg', 'airplane_2407329084_cf85f2888d.jpg', 'dog_169995024_970c9e8d9a.jpg', 'car_2183294396_e437a4f162.jpg', 'car_2697548163_4150a9abd6.jpg', 'dog_803688184_8532c2b990.jpg', 'airplane_2624048094_4ee7c9c656.jpg', 'cat_509807655_0be4c6921f.jpg', 'airplane_489765227_0dd28b9dc8.jpg', 'elephant_756958798_ed624c90fc.jpg', 'cat_1323581252_5cd7421812.jpg', 'cat_1713997097_5db5f59ccf.jpg', 'elephant_430121468_ae609fb14d.jpg', 'car_2691691743_b59912a409.jpg', 'car_2466037491_2359298273.jpg', 'airplane_423873432_95420959b6.jpg', 'airplane_1848256007_18c19e2d0b.jpg', 'airplane_326997094_e555d58b1b.jpg', 'airplane_128447528_a48d3519de.jpg', 'cat_299837288_5c84203463.jpg', 'dog_125896862_aea45a18ee.jpg', 'airplane_2410687973_774a8e1848.jpg', 'car_2586393985_813dd4a8d7.jpg', 'dog_2038475918_642ff60a64.jpg', 'cat_497844091_17ae70e427.jpg', 'cat_502283516_d073edae94.jpg', 'cat_34662543_6b38b8d20a.jpg', 'cat_469376607_5a1f033463.jpg', 'car_2574168252_16056491dd.jpg', 'cat_203822627_66cc7c0154.jpg', 'cat_493685174_ee8b201b0b.jpg', 'elephant_1476324821_d53eeef43f.jpg', 'airplane_283939822_65728aebb1.jpg', 'elephant_52774261_8c1bdc453d.jpg', 'airplane_400350015_a74a725f9e.jpg', 'airplane_2155699664_c662ea8c1a.jpg', 'cat_337595941_ef58f6fbef.jpg', 'cat_800528750_8224be0489.jpg', 'cat_797614305_bec61c42af.jpg', 'cat_918423287_55cd8a7669.jpg', 'dog_1619436512_37e37aa761.jpg', 'airplane_2404329702_3f9138b145.jpg', 'cat_570837226_49dc1528f9.jpg', 'cat_1112640457_401418ec93.jpg', 'airplane_17055170_c500725723.jpg', 'car_2060359539_549fb9191a.jpg', 'car_2547340266_82aa044710.jpg', 'cat_190945562_0f0372488b.jpg', 'cat_520562987_e5a8ca1b73.jpg', 'car_2707694861_b207366a89.jpg', 'dog_436020093_8b3888260b.jpg', 'dog_314967391_c974a5f23b.jpg', 'car_2061050868_f7b7587748.jpg', 'elephant_226299021_95e73d0302.jpg', 'cat_454479956_8248a758ae.jpg', 'car_2600019140_67b6c145c2.jpg', 'cat_1181154063_3a718ffe8d.jpg', 'elephant_173174909_49001cfc0c.jpg', 'cat_1985735384_0507a2c073.jpg', 'airplane_9876543456.jpg', 'dog_334723839_fdbb6ccd8e.jpg', 'elephant_945825406_d2dcfe8779.jpg', 'dog_450406665_1068cb8f95.jpg', 'elephant_38492943_1b0df01f85.jpg', 'elephant_518813412_12505cf38a.jpg', 'cat_99029168_940da3a1e5.jpg', 'elephant_35026906_600f0b2de5.jpg', 'car_2455813883_7364d1c70a.jpg', 'airplane_511419871_4b14eb3340.jpg', 'cat_25341801_43be0d81fc.jpg', 'airplane_2675903015_2f3bc2d7c9.jpg', 'dog_2097518451_4256b1389d.jpg', 'cat_223719863_260be6e242.jpg', 'airplane_952270951_c08906c1ae.jpg', 'dog_1392909841_7b2fef26f3.jpg', 'cat_107018255_929f20ef60.jpg', 'airplane_1646130515_d3424e69bf.jpg', 'car_2210180385_8fbc568903.jpg', 'airplane_117774272_fe7c43ffbc.jpg', 'car_153488067_a64a8eafa0.jpg', 'car_1389950194_3a1d07fee0.jpg', 'car_2599332519_a6616cdf16.jpg', 'airplane_2049128902_d4c270cada.jpg', 'car_133653222_c3e579e574.jpg', 'cat_495300082_3154ca61aa.jpg', 'dog_437202643_e32ce43baa.jpg', 'elephant_793170418_d9c66e1c06.jpg', 'cat_11841850_fa98242c6a.jpg', 'elephant_373905767_37e1798af2.jpg', 'car_2453637553_fe55e7eb27.jpg', 'cat_456928459_bad69ac884.jpg', 'elephant_250519752_cf3d6f2e07.jpg', 'dog_509558025_17dc760a6b.jpg', 'dog_329958161_ca74cdb415.jpg', 'dog_406770160_8050584647.jpg', 'elephant_420995582_1e576d26d6.jpg', 'car_2692569314_51c1eb366f.jpg', 'dog_891910188_c42f1f80d9.jpg', 'cat_917212981_014acf655d.jpg', 'car_2708500152_1946cdaa00.jpg', 'airplane_1357100052_dc1483cdef.jpg', 'elephant_187253088_d75d96ffe2.jpg', 'car_2441001098_6fefbd8608.jpg', 'car_936972157_be0a44bd1d.jpg', 'car_2663384793_2608e05f88.jpg', 'dog_125248135_31216ecf28.jpg', 'elephant_1627247115_8cf8ec21f2.jpg', 'elephant_476242081_cd0302e195.jpg', 'car_2331812960_f3684ae49e.jpg', 'cat_1095944283_17208c8595.jpg', 'elephant_449704285_7a3e7cd2e3.jpg', 'dog_427080674_ec2ef34db5.jpg', 'airplane_340424527_ec144ad25f.jpg', 'elephant_2038380488_c292f1b782.jpg', 'elephant_35025871_d7873a88a7.jpg', 'cat_697017891_77ff0d272a.jpg', 'elephant_1397098508_c8d2ce1560.jpg', 'car_2599723500_85b30b9305.jpg', 'car_2060051647_508ac196b5.jpg', 'airplane_385346359_37fbe9ed65.jpg', 'cat_223052812_0eaa1d7566.jpg', 'elephant_330113654_46b0a808cb.jpg', 'elephant_117174963_cbd126a8ec.jpg', 'dog_739803901_d04792b8c3.jpg', 'car_214094548_3b826c9978.jpg', 'dog_1065344731_aa73050a62.jpg', 'elephant_1355759443_8448d6fd93.jpg', 'car_329610669_0ceb43fd19.jpg', 'car_2440967370_aa0b604017.jpg', 'dog_574217027_6f7440218a.jpg', 'car_2666739991_43bc7aed7d.jpg', 'elephant_1325452933_ef9bbe7529.jpg', 'airplane_2166665782_f1ea22b1a5.jpg', 'car_457834210_05ee82006b.jpg', 'airplane_290988303_b8a34724a2.jpg', 'cat_1371892048_9e9f3ee318.jpg', 'elephant_157604384_ee440d06ff.jpg', 'dog_492309271_2eb097d699.jpg', 'car_2491559585_1ef4bf1629.jpg', 'airplane_2521464028_536706ed07.jpg', 'cat_1809362680_ba9213d4f5.jpg']\n",
            "['dog_948952651_ae88267702.jpg', 'elephant_1512248794_a732f0d77c.jpg', 'dog_411390999_7097d3634b.jpg', 'car_2431152745_eecfa49641.jpg', 'elephant_543215461_c0496c4ba6.jpg', 'car_2373896064_3acf6117fa.jpg', 'cat_512411718_da2e0a277d.jpg', 'cat_468615076_a2450bf20b.jpg', 'cat_54452243_48ce039967.jpg', 'car_2549993855_dbe4530875.jpg', 'car_2667096806_0d41ea9338.jpg', 'airplane_661682258_52d55b9cf5.jpg', 'dog_406630010_dfdcd4221e.jpg', 'elephant_1095153437_a6fb001195.jpg', 'cat_157662884_8e2d1dd295.jpg', 'elephant_11543351_3c9cca11b0.jpg', 'airplane_2885315_db5dd13d26.jpg', 'elephant_171252662_0177a9b8c6.jpg', 'airplane_108887665_86a1047ae4.jpg', 'dog_470186220_7595143e12.jpg', 'cat_439881434_c4d255c21c.jpg', 'airplane_389068663_68b8cef101.jpg', 'elephant_444085033_c4fe2dc8c4.jpg', 'dog_2090987318_31b245a26b.jpg', 'dog_366070882_1419a396aa.jpg', 'elephant_257264886_d95791f5e7.jpg', 'cat_776126883_5bce88df32.jpg', 'car_847154336_f782942022.jpg', 'car_2735375964_9226b2ea80.jpg', 'cat_2095245869_167f4df935.jpg', 'airplane_1831671971_c9bef61508.jpg', 'cat_754108251_f92d09ee98.jpg', 'cat_1287089510_f5569fdd22.jpg', 'dog_1516897105_9551eceb74.jpg', 'dog_1412971589_b12e881204.jpg', 'elephant_1238594110_02b42477aa.jpg', 'elephant_1355838972_09ca54a84a.jpg', 'dog_531463060_2d55403b0d.jpg', 'car_2106429850_fb885a1abd.jpg', 'airplane_1386341970_cb2e833d33.jpg', 'elephant_173044982_fd1a0e389d.jpg', 'cat_472715185_8308cc5bce.jpg', 'airplane_432296669_8e70269a64.jpg', 'dog_312128999_538a288fb5.jpg', 'airplane_995968008_74475dee27.jpg', 'dog_1460011399_85bf054ef1.jpg', 'car_2708631349_52689879b0.jpg', 'dog_145824251_7dec967dd3.jpg', 'elephant_2211547306_caca11f275.jpg', 'cat_37426080_30edeaf019.jpg', 'elephant_151963164_a4e1d06d1a.jpg', 'dog_427063172_521e9f4719.jpg', 'dog_431241943_809206eedb.jpg', 'car_2254848065_6c119575bd.jpg', 'cat_807828373_291a605452.jpg', 'car_2252853368_aca02d46ac.jpg', 'car_2428576787_6658c61000.jpg', 'airplane_66127344_96a3ee7a6e.jpg', 'cat_135579916_ce5bd90475.jpg', 'airplane_231269454_708350495a.jpg', 'dog_640212967_0d8b02dcdd.jpg', 'cat_1972050799_f63e09067f.jpg', 'car_2222620715_5dcdc8107e.jpg', 'dog_410102108_ba3b4ead0a.jpg', 'cat_1973340147_e454e8f25f.jpg', 'elephant_290934359_df434fea07.jpg', 'elephant_485991491_17a7885564.jpg', 'airplane_2455319970_3353b0b541.jpg', 'elephant_511505250_3139785b47.jpg', 'airplane_49072253_d7c099be66.jpg', 'cat_1737181061_d4391a9627.jpg', 'airplane_2165866735_d939404353.jpg', 'cat_1484751958_b16fedd4c2.jpg', 'elephant_32614226_c0d069aff3.jpg', 'cat_1210503252_5383fe1c12.jpg', 'car_2413834942_907709e5ac.jpg', 'car_2287386733_ae621a7abe.jpg', 'cat_161285442_8bcc94a3d5.jpg', 'car_2715810931_648aa512c2.jpg', 'dog_139381434_f44371a96d.jpg', 'car_2580085600_5e0cd8aba0.jpg', 'airplane_2394014210_0c2679f0b3.jpg', 'car_2501184817_e83512020b.jpg', 'airplane_156117114_a849d1a6b5.jpg', 'cat_371068422_47a9b29455.jpg', 'airplane_1203776763_cc136816f4.jpg', 'dog_257226664_89781f6879.jpg', 'car_1260288332_8f3ec15630.jpg', 'dog_312152610_94f33a8507.jpg', 'elephant_212353461_c1f252fdd3.jpg', 'dog_24892618_e8f5b26ccb.jpg', 'car_90623098_7730e7e18e.jpg', 'elephant_171268376_90d5ca25e9.jpg', 'cat_964126791_6f40ca5177.jpg', 'cat_2156521163_f7d45b6f6e.jpg', 'elephant_1218753234_017a0cbd49.jpg', 'cat_798503612_b64cc21817.jpg', 'airplane_2670805281_ec2ce38c9f.jpg', 'elephant_2141104611_56c21c113f.jpg', 'elephant_86753692_1770f441d3.jpg', 'elephant_2220993619_7bd7814dde.jpg', 'airplane_148113522_3b0c62dcf1.jpg', 'elephant_171242004_b9c098a9a3.jpg', 'cat_2215772954_e90cf8cd88.jpg', 'cat_461692455_5ca4596359.jpg', 'airplane_2734097830_603caa0767.jpg', 'airplane_198836419_7715868a15.jpg', 'airplane_2315183009_7a1a42e53d.jpg', 'car_2694724051_6838b26d06.jpg', 'elephant_99995471_546ba6222b.jpg', 'elephant_325999779_18c27f01ba.jpg', 'airplane_2238500615_0331fa9a26.jpg', 'dog_406808925_239a383ee7.jpg', 'airplane_2558435594_eb496300aa.jpg', 'cat_2197815717_ebee4547c4.jpg', 'airplane_2040809891_f399741467.jpg', 'car_2514077768_74511f44e0.jpg', 'cat_899083296_736d18ae4b.jpg', 'dog_1114867042_00a54edba3.jpg', 'cat_1010884970_1aa4af4701.jpg', 'dog_110345287_93f7070cb1.jpg', 'dog_492288911_a3c455f54c.jpg', 'cat_1284337059_29aaf74695.jpg', 'car_2615671272_b620115fec.jpg', 'airplane_2247971672_09ee26e459.jpg', 'car_2491565093_3315d56e69.jpg', 'cat_352355242352.jpg', 'dog_312709157_843ad502ca.jpg', 'elephant_438111209_c4534165e3.jpg', 'elephant_273917192_56fc529b5a.jpg', 'car_2307489487_1174478b88.jpg', 'dog_1890689502_00198c6bd1.jpg', 'cat_5874225_665db258f6.jpg', 'dog_355633623_dbace3e0c3.jpg', 'dog_689779238_2972f61170.jpg', 'cat_516293432_b3624910b4.jpg', 'elephant_1608629679_f888063a0f.jpg', 'dog_119613880_4356e931e5.jpg', 'car_2577908327_83be663bce.jpg', 'dog_2141649454_4a04307194.jpg', 'car_534980886_bad9a81cc9.jpg', 'cat_529305169_90b3031371.jpg', 'airplane_1386344436_12e9f5769b.jpg', 'car_318219179_be7df590f7.jpg', 'elephant_171263686_1a9a034aa6.jpg', 'elephant_67028545_4df7a600ce.jpg', 'dog_440296570_8728a9bfd5.jpg', 'dog_104993381_ab5f7b8090.jpg', 'elephant_541037016_ecfa6df5e5.jpg', 'car_447282920_103e199bd8.jpg', 'car_2697590827_ffed423ebc.jpg', 'cat_459964307_3cb4821ce9.jpg', 'elephant_164321329_eecf2ca755.jpg', 'dog_2079401653_7f2c97404e.jpg', 'airplane_525299872_15866f6ee8.jpg', 'car_2470019607_20dca68cb4.jpg', 'elephant_171267834_b13b56a83b.jpg', 'cat_129880737_1b8825c034.jpg', 'cat_1224559581_c3c3464cca.jpg', 'airplane_2334025078_6c07362507.jpg', 'airplane_2676695368_9f9b4eae18.jpg', 'dog_426965780_d9066d8d5e.jpg', 'dog_142225146_a6fd6f811f.jpg', 'airplane_468435025_55f4acf9c7.jpg', 'cat_437815840_ac74ca2be7.jpg', 'elephant_518072244_2b96a023a6.jpg', 'elephant_2191773107_7d1853fcf2.jpg', 'elephant_1585198585_032c6af030.jpg', 'dog_437176079_947526e681.jpg', 'car_172748956_13f0ab104f.jpg', 'cat_433442298_f68577ef8b.jpg', 'elephant_529299460_829382d065.jpg', 'elephant_99995533_59a7784f09.jpg', 'car_440197400_7ceb205417.jpg', 'elephant_113234587_4cfe62c52b.jpg', 'dog_1297270939_c8bf51c1b1.jpg', 'car_2492389532_9a2afb453a.jpg', 'elephant_1410735420_63e6f2b22c.jpg', 'elephant_171247089_59042a2b95.jpg', 'airplane_2405986584_ef95c7c2fc.jpg', 'dog_142236307_9a364b60b4.jpg', 'airplane_2585674156_18aeb07be7.jpg', 'elephant_1393923408_0223746cb5.jpg', 'dog_2126832940_9d36698813.jpg', 'cat_1985731136_84840fcf96.jpg', 'elephant_87654345673872.jpg', 'dog_426597193_4b2d975bb2.jpg', 'car_2405552020_ee3df8170e.jpg', 'dog_3127747_8b48b6cbb6.jpg', 'airplane_28848637_fb93a8b2d3.jpg', 'airplane_129260654_805dfe4c52.jpg', 'dog_1083277185_895b3462ac.jpg', 'cat_126564047_b929724c89.jpg', 'car_1306938883_43ac47fb70.jpg', 'car_2586480449_a32cce2373.jpg', 'airplane_2321651122_6c0f09d96a.jpg', 'airplane_1038817887_adf7a57848.jpg', 'car_1576721872_a436b35dce.jpg', 'cat_1778591983_01e18958fc.jpg', 'elephant_382853939_24ef96c69e.jpg', 'cat_461691100_5b9d9b1fea.jpg', 'airplane_2536232265_b8bfed0ac8.jpg', 'airplane_356218681_4174483173.jpg', 'car_2483967922_e1c95dd28e.jpg', 'elephant_330285980_d7eeca818d.jpg', 'cat_502335523_a27cc49840.jpg', 'car_1389914352_58f4d44bd5.jpg', 'car_2513290185_66c46228bc.jpg', 'dog_180300673_180c64d718.jpg', 'car_45260804_1cdb221452.jpg', 'elephant_171269338_f51fb85aff.jpg', 'airplane_1584812375_c61879c676.jpg', 'cat_347227923_11052bff23.jpg', 'cat_527547399_7f7b3c6157.jpg', 'elephant_74313201_05e777ebae.jpg', 'elephant_311928137_0e3b2cadf5.jpg', 'airplane_531326560_e50926d902.jpg', 'airplane_508060193_9c49eb2d91.jpg', 'airplane_2043159074_1b5dabcb37.jpg', 'car_1410830620_2efe7370c2.jpg', 'airplane_2043177578_681270a538.jpg', 'airplane_295656508_3672afa948.jpg', 'car_2252854848_fe478a2c88.jpg', 'airplane_548896275_db0585f740.jpg', 'dog_436013847_c9749a1264.jpg', 'airplane_26176200_25bd110677.jpg', 'elephant_641243299_4a58ecf802.jpg', 'dog_2039628037_5e273b0c20.jpg', 'car_1211593365_544882367c.jpg', 'dog_86291932_58fc26530a.jpg', 'dog_180300665_18803acdb9.jpg', 'airplane_2576984819_daa8e59e75.jpg', 'car_2431313043_0726effd05.jpg', 'airplane_2073643014_8ecbdbd760.jpg', 'dog_426584142_22a2af1a1e.jpg', 'cat_898500300_8cc2a6a0c2.jpg', 'cat_198519299_10c276b8fa.jpg', 'dog_178634525_3e34d4e572.jpg', 'car_2434443162_df523ce0da.jpg', 'cat_1484611144_d589752ffe.jpg', 'airplane_209778573_07a297bc98.jpg', 'elephant_148655933_d5a0429b71.jpg', 'cat_255186437_b7c6f78b86.jpg', 'dog_65983741_7258b41fd9.jpg', 'car_1389196489_232f7351b5.jpg', 'car_2210892922_900a07f40c.jpg', 'airplane_2485485020_55f5f2ab3a.jpg', 'car_2648659865_8672193d07.jpg', 'car_2381133853_baa778028d.jpg', 'cat_310343121_dc734b21fa.jpg']\n"
          ]
        }
      ]
    },
    {
      "cell_type": "code",
      "source": [],
      "metadata": {
        "id": "PAnaUTnJ5tv2"
      },
      "execution_count": null,
      "outputs": []
    },
    {
      "cell_type": "code",
      "source": [
        "# defining a mapping between class names and numbers\n",
        "mapping = {'car': 0, 'dog': 1, 'elephant': 2, 'cat': 3, 'airplane': 4}\n",
        "inverse_mapping = ['car', 'dog', 'elephant', 'cat', 'airplane']\n",
        "\n",
        "# getting labels based on filenames, note that the filenames themselves contain classnames\n",
        "# also note that these labels won't be used to actually train the base model\n",
        "# these are just for visualization purposes\n",
        "labels_train = [mapping[x.split('_')[0]] for x in names_train]\n",
        "labels_test = [mapping[x.split('_')[0]] for x in names_test]\n",
        "\n",
        "# these 10 percent labels will be used for training the linear classifer\n",
        "labels_train_10_percent = [mapping[x.split('_')[0]] for x in names_train_10_percent]\n"
      ],
      "metadata": {
        "id": "oJg9jATGwArT"
      },
      "execution_count": null,
      "outputs": []
    },
    {
      "cell_type": "code",
      "source": [
        "print(labels_train)\n",
        "print(labels_test)\n",
        "print(labels_train_10_percent)"
      ],
      "metadata": {
        "colab": {
          "base_uri": "https://localhost:8080/"
        },
        "id": "pUab53bxwId0",
        "outputId": "f45aec40-2d3a-4329-d4cc-37fcc343e25e"
      },
      "execution_count": null,
      "outputs": [
        {
          "output_type": "stream",
          "name": "stdout",
          "text": [
            "[4, 4, 0, 0, 2, 2, 4, 1, 4, 1, 4, 4, 4, 0, 0, 0, 1, 0, 4, 4, 2, 1, 4, 3, 4, 0, 4, 3, 3, 1, 0, 2, 2, 1, 4, 4, 2, 0, 2, 3, 1, 2, 0, 0, 4, 0, 0, 3, 2, 3, 4, 1, 0, 4, 1, 1, 2, 2, 3, 3, 1, 2, 0, 2, 4, 1, 4, 3, 4, 2, 3, 0, 0, 1, 3, 3, 3, 0, 3, 1, 1, 4, 4, 0, 3, 0, 0, 0, 1, 1, 2, 4, 1, 1, 4, 0, 1, 4, 3, 0, 1, 2, 1, 4, 4, 2, 3, 3, 2, 4, 1, 0, 2, 4, 0, 4, 1, 1, 3, 4, 0, 4, 4, 2, 4, 0, 4, 0, 3, 3, 0, 4, 1, 1, 4, 2, 3, 1, 2, 3, 0, 2, 3, 4, 0, 3, 4, 4, 4, 0, 3, 3, 1, 2, 2, 1, 1, 1, 0, 0, 1, 3, 4, 0, 0, 3, 3, 3, 1, 4, 3, 4, 4, 3, 0, 0, 3, 3, 1, 0, 3, 2, 1, 2, 4, 3, 0, 4, 2, 1, 3, 3, 1, 4, 4, 1, 1, 3, 3, 2, 2, 2, 2, 1, 4, 3, 3, 0, 0, 2, 4, 4, 4, 0, 2, 2, 1, 4, 2, 1, 3, 1, 2, 0, 1, 4, 1, 4, 2, 2, 3, 2, 2, 0, 4, 2, 4, 4, 1, 1, 2, 3, 4, 1, 3, 0, 1, 3, 2, 4, 3, 0, 0, 4, 3, 4, 2, 1, 4, 3, 4, 4, 4, 0, 0, 0, 3, 1, 4, 1, 3, 0, 2, 3, 0, 3, 3, 0, 1, 3, 3, 3, 2, 1, 0, 1, 3, 2, 3, 2, 1, 2, 2, 3, 1, 4, 4, 0, 3, 1, 1, 0, 1, 0, 4, 3, 1, 1, 0, 3, 1, 4, 1, 0, 2, 0, 2, 3, 1, 0, 4, 1, 2, 3, 1, 4, 1, 4, 4, 4, 0, 4, 1, 1, 0, 0, 1, 4, 1, 4, 1, 3, 0, 0, 3, 0, 3, 3, 4, 3, 4, 3, 1, 1, 2, 1, 3, 4, 1, 0, 1, 4, 0, 3, 2, 0, 1, 0, 1, 1, 0, 3, 2, 4, 2, 1, 4, 2, 2, 2, 4, 2, 3, 3, 0, 0, 1, 3, 0, 1, 0, 1, 0, 2, 1, 0, 4, 4, 1, 2, 4, 0, 3, 0, 4, 1, 0, 2, 4, 3, 2, 2, 2, 3, 3, 4, 2, 0, 2, 1, 3, 0, 0, 2, 4, 4, 0, 1, 1, 2, 4, 1, 3, 4, 3, 2, 1, 3, 2, 3, 0, 4, 1, 1, 2, 2, 3, 4, 4, 2, 2, 0, 3, 2, 0, 3, 4, 3, 3, 3, 0, 2, 0, 0, 1, 3, 4, 2, 4, 4, 0, 0, 1, 1, 4, 0, 2, 1, 2, 4, 2, 0, 0, 2, 2, 2, 3, 3, 1, 2, 2, 3, 1, 1, 3, 0, 1, 0, 4, 1, 1, 3, 0, 2, 1, 2, 2, 4, 3, 1, 4, 0, 2, 3, 1, 2, 3, 0, 0, 2, 0, 4, 1, 2, 3, 1, 0, 0, 4, 4, 4, 0, 3, 2, 4, 1, 2, 4, 3, 1, 4, 4, 1, 0, 2, 2, 4, 2, 2, 0, 4, 0, 0, 0, 1, 2, 4, 1, 0, 0, 0, 1, 3, 3, 0, 4, 3, 4, 4, 3, 3, 0, 4, 2, 4, 4, 4, 0, 3, 4, 4, 2, 0, 0, 0, 4, 1, 3, 4, 0, 2, 2, 3, 2, 2, 3, 0, 3, 3, 3, 0, 0, 1, 2, 1, 2, 3, 4, 3, 0, 4, 1, 0, 0, 4, 2, 3, 2, 2, 4, 4, 2, 4, 3, 3, 4, 2, 2, 2, 2, 0, 2, 2, 3, 1, 3, 3, 3, 0, 4, 0, 2, 1, 4, 1, 3, 3, 4, 3, 2, 0, 3, 3, 0, 1, 4, 1, 2, 3, 1, 0, 4, 4, 2, 1, 1, 2, 1, 2, 2, 1, 4, 2, 0, 0, 2, 4, 1, 1, 1, 2, 3, 3, 2, 1, 0, 1, 4, 0, 1, 0, 1, 4, 2, 4, 3, 3, 0, 0, 0, 2, 2, 3, 4, 3, 3, 1, 2, 0, 0, 4, 3, 3, 2, 3, 3, 1, 3, 2, 1, 3, 2, 0, 1, 1, 1, 4, 4, 4, 1, 3, 0, 3, 4, 1, 0, 2, 2, 4, 1, 0, 3, 4, 0, 2, 2, 1, 0, 0, 2, 1, 0, 2, 2, 4, 3, 2, 1, 0, 4, 2, 1, 2, 1, 1, 1, 0, 1, 4, 4, 1, 1, 1, 2, 2, 4, 4, 1, 1, 4, 2, 1, 2, 4, 3, 0, 0, 2, 4, 1, 4, 1, 3, 3, 1, 3, 4, 4, 4, 2, 1, 0, 1, 1, 2, 3, 0, 2, 2, 1, 3, 1, 0, 2, 3, 2, 0, 3, 0, 4, 4, 4, 1, 1, 1, 1, 1, 3, 0, 0, 3, 0, 4, 0, 2, 0, 2, 4, 4, 4, 3, 3, 3, 3, 4, 3, 4, 2, 3, 4, 4, 4, 3, 2, 0, 2, 3, 1, 1, 2, 2, 1, 4, 1, 0, 4, 2, 0, 4, 2, 3, 4, 2, 1, 0, 3, 2, 3, 0, 4, 4, 1, 3, 0, 2, 3, 3, 0, 0, 4, 4, 4, 2, 4, 0, 4, 2, 1, 1, 0, 4, 1, 0, 1, 2, 4, 3, 2, 3, 4, 1, 1, 4, 1, 2, 1, 0, 2, 4, 1, 1, 1, 2, 3, 2, 3, 1, 1, 1, 2, 2, 2, 0, 0, 0, 1, 4, 1, 1, 3, 0, 1, 4, 2, 2, 2, 0, 3, 3, 2, 1, 1, 1, 1, 2, 2, 3, 4, 1, 3, 0, 4, 1, 0, 2, 1, 3, 1, 2, 1, 3, 0, 2, 2, 2, 2, 4, 3, 1, 0, 2, 4, 0, 1, 3, 4, 1, 3, 1, 3, 3, 0, 4, 1, 0, 4, 3, 3, 1, 2, 0, 0, 3, 1, 0, 1, 1, 2, 1, 2, 0, 4, 2, 3, 0, 3, 1, 0, 0, 1, 0, 0, 3, 2, 2, 2, 2, 1, 2, 4, 2, 3, 4, 1, 2, 1, 2, 3, 4, 0, 3, 0, 2, 3, 1, 0, 4, 2, 1, 3, 0, 2, 3, 4, 0, 4, 0, 0, 0, 0, 2, 1, 2, 0, 3, 2, 3, 2, 0, 4, 2, 3, 0, 4, 1, 4, 3, 0, 4, 2, 1, 2, 4, 4, 1, 4, 3, 3, 3, 0, 3, 2, 2, 3, 0, 4, 3, 0, 3, 2, 3, 2, 0, 2, 4, 4, 2, 3, 3, 0, 4, 1, 0, 0, 1, 4, 3, 4, 2, 3, 3, 2, 0, 0, 4, 4, 4, 4, 3, 1, 4, 0, 1, 3, 3, 3, 3, 0, 3, 3, 2, 4, 2, 4, 4, 3, 3, 3, 3, 1, 4, 3, 3, 4, 0, 0, 3, 3, 0, 1, 1, 0, 2, 3, 0, 3, 2, 3, 4, 1, 2, 1, 2, 2, 3, 2, 0, 4, 3, 4, 1, 3, 4, 1, 3, 4, 0, 4, 0, 0, 0, 4, 0, 3, 1, 2, 3, 2, 0, 3, 2, 1, 1, 1, 2, 0, 1, 3, 0, 4, 2, 0, 0, 0, 1, 2, 2, 0, 3, 2, 1, 4, 2, 2, 3, 2, 0, 0, 4, 3, 2, 2, 1, 0, 1, 2, 0, 0, 1, 0, 2, 4, 0, 4, 3, 2, 1, 0, 4, 3]\n",
            "[1, 2, 1, 0, 2, 0, 3, 3, 3, 0, 0, 4, 1, 2, 3, 2, 4, 2, 4, 1, 3, 4, 2, 1, 1, 2, 3, 0, 0, 3, 4, 3, 3, 1, 1, 2, 2, 1, 0, 4, 2, 3, 4, 1, 4, 1, 0, 1, 2, 3, 2, 1, 1, 0, 3, 0, 0, 4, 3, 4, 1, 3, 0, 1, 3, 2, 2, 4, 2, 4, 3, 4, 3, 2, 3, 0, 0, 3, 0, 1, 0, 4, 0, 4, 3, 4, 1, 0, 1, 2, 1, 0, 2, 3, 3, 2, 3, 4, 2, 2, 2, 4, 2, 3, 3, 4, 4, 4, 0, 2, 2, 4, 1, 4, 3, 4, 0, 3, 1, 3, 1, 1, 3, 0, 4, 0, 3, 1, 2, 2, 0, 1, 3, 1, 1, 3, 2, 1, 0, 1, 0, 3, 4, 0, 2, 2, 1, 1, 2, 0, 0, 3, 2, 1, 4, 0, 2, 3, 3, 4, 4, 1, 1, 4, 3, 2, 2, 2, 1, 0, 3, 2, 2, 0, 2, 1, 0, 2, 2, 4, 1, 4, 2, 1, 3, 2, 1, 0, 1, 4, 4, 1, 3, 0, 0, 4, 4, 0, 3, 2, 3, 4, 4, 0, 2, 3, 0, 0, 1, 0, 2, 4, 3, 3, 2, 2, 4, 4, 4, 0, 4, 4, 0, 4, 1, 4, 2, 1, 0, 1, 1, 4, 0, 4, 1, 3, 3, 1, 0, 3, 4, 2, 3, 1, 0, 0, 4, 0, 0, 3]\n",
            "[1, 1, 4, 3, 2, 1, 1, 3, 1, 3, 2, 0, 2, 0, 3, 0, 4, 3, 2, 2, 0, 3, 4, 4, 3, 1, 2, 4, 3, 1, 3, 0, 2, 1, 2, 3, 4, 2, 4, 4, 1, 4, 2, 3, 0, 3, 4, 0, 2, 0, 0, 0, 2, 1, 4, 4, 3, 2, 2, 4, 3, 2, 3, 0, 2, 3, 2, 0, 2, 2, 2, 3, 1, 4, 2, 3, 2, 0, 3, 0, 0, 0, 4, 3, 1, 4, 4, 0, 0, 4, 2, 1, 2, 3, 2, 0, 0, 2, 1, 2, 3, 1, 2, 3, 4, 3, 4, 1, 2, 3, 0, 0, 4, 3, 4, 0, 1, 0, 1, 0, 0, 4, 2, 2, 2]\n"
          ]
        }
      ]
    },
    {
      "cell_type": "code",
      "source": [
        "def get_color_distortion(s=1.0):\n",
        "    color_jitter = T.ColorJitter(0.8 * s, 0.8 * s, 0.8 * s, 0.2 * s)\n",
        "    rnd_color_jitter = T.RandomApply([color_jitter], p=0.8)\n",
        "    \n",
        "    # p is the probability of grayscale, here 0.2\n",
        "    rnd_gray = T.RandomGrayscale(p=0.2)\n",
        "    color_distort = T.Compose([rnd_color_jitter, rnd_gray])\n",
        "    \n",
        "    return color_distort\n",
        "\n",
        "# this is the dataset class\n",
        "class MyDataset(Dataset):\n",
        "    def __init__(self, filenames, labels, mutation=False):\n",
        "        self.file_names = filenames\n",
        "        self.labels = labels\n",
        "        self.mutation = mutation\n",
        "\n",
        "    def __len__(self):\n",
        "        return len(self.file_names)\n",
        "\n",
        "    def tensorify(self, img):\n",
        "        res = T.ToTensor()(img)\n",
        "        res = T.Normalize((0.5, 0.5, 0.5), (0.5, 0.5, 0.5))(res)\n",
        "        return res\n",
        "\n",
        "    def mutate_image(self, img):\n",
        "        res = T.RandomResizedCrop(224)(img)\n",
        "        res = get_color_distortion()(res)\n",
        "        return res\n",
        "\n",
        "    def __getitem__(self, idx):\n",
        "        if torch.is_tensor(idx):\n",
        "            idx = idx.tolist()\n",
        "\n",
        "        img_name = self.file_names[idx]\n",
        "        image = Image.open(img_name).convert('RGB')\n",
        "        label = self.labels[idx]\n",
        "        image = T.Resize((250, 250))(image)\n",
        "\n",
        "        if self.mutation:\n",
        "            image1 = self.mutate_image(image)\n",
        "            image1 = self.tensorify(image1)\n",
        "            image2 = self.mutate_image(image)\n",
        "            image2 = self.tensorify(image2)\n",
        "            sample = {'image1': image1, 'image2': image2, 'label': label}\n",
        "        else:\n",
        "            image = T.Resize((224, 224))(image)\n",
        "            image = self.tensorify(image)\n",
        "            sample = {'image': image, 'label': label}\n",
        "\n",
        "        return sample"
      ],
      "metadata": {
        "id": "I6Stnuh4wV2X"
      },
      "execution_count": null,
      "outputs": []
    },
    {
      "cell_type": "code",
      "source": [
        "# datasets\n",
        "training_dataset_mutated = MyDataset(names_train, labels_train, mutation=True)\n",
        "training_dataset = MyDataset(names_train_10_percent, labels_train_10_percent, mutation=False)\n",
        "testing_dataset = MyDataset(names_test, labels_test, mutation=False)\n",
        "\n",
        "# dataloaders\n",
        "dataloader_training_dataset_mutated = DataLoader(training_dataset_mutated, batch_size=256, shuffle=True)\n",
        "dataloader_training_dataset = DataLoader(training_dataset, batch_size=256, shuffle=True)\n",
        "dataloader_testing_dataset = DataLoader(testing_dataset, batch_size=256, shuffle=True)"
      ],
      "metadata": {
        "id": "P1YzMTH4wch3"
      },
      "execution_count": null,
      "outputs": []
    },
    {
      "cell_type": "code",
      "source": [
        "# defining our deep learning architecture\n",
        "resnetq = resnet18(pretrained=False)\n",
        "\n",
        "classifier = nn.Sequential(OrderedDict([\n",
        "    ('fc1', nn.Linear(resnetq.fc.in_features, 100)),\n",
        "    ('added_relu1', nn.ReLU(inplace=True)),\n",
        "    ('fc2', nn.Linear(100, 50)),\n",
        "    ('added_relu2', nn.ReLU(inplace=True)),\n",
        "    ('fc3', nn.Linear(50, 25))\n",
        "]))\n",
        "\n",
        "resnetq.fc = classifier\n",
        "#Finally, resnetk is created as a deep copy of resnetq using the copy.deepcopy() method. \n",
        "#This is done to ensure that resnetk has its own set of parameters and is not simply a reference to resnetq.\n",
        "resnetk = copy.deepcopy(resnetq)\n",
        "\n",
        "# moving the resnet architecture to device\n",
        "resnetq.to(device)\n",
        "resnetk.to(device)\n"
      ],
      "metadata": {
        "colab": {
          "base_uri": "https://localhost:8080/"
        },
        "id": "HbEGiV29wix_",
        "outputId": "acf84ff0-2828-432f-9611-96b8874327f3"
      },
      "execution_count": null,
      "outputs": [
        {
          "output_type": "stream",
          "name": "stderr",
          "text": [
            "/usr/local/lib/python3.9/dist-packages/torchvision/models/_utils.py:208: UserWarning: The parameter 'pretrained' is deprecated since 0.13 and may be removed in the future, please use 'weights' instead.\n",
            "  warnings.warn(\n",
            "/usr/local/lib/python3.9/dist-packages/torchvision/models/_utils.py:223: UserWarning: Arguments other than a weight enum or `None` for 'weights' are deprecated since 0.13 and may be removed in the future. The current behavior is equivalent to passing `weights=None`.\n",
            "  warnings.warn(msg)\n"
          ]
        },
        {
          "output_type": "execute_result",
          "data": {
            "text/plain": [
              "ResNet(\n",
              "  (conv1): Conv2d(3, 64, kernel_size=(7, 7), stride=(2, 2), padding=(3, 3), bias=False)\n",
              "  (bn1): BatchNorm2d(64, eps=1e-05, momentum=0.1, affine=True, track_running_stats=True)\n",
              "  (relu): ReLU(inplace=True)\n",
              "  (maxpool): MaxPool2d(kernel_size=3, stride=2, padding=1, dilation=1, ceil_mode=False)\n",
              "  (layer1): Sequential(\n",
              "    (0): BasicBlock(\n",
              "      (conv1): Conv2d(64, 64, kernel_size=(3, 3), stride=(1, 1), padding=(1, 1), bias=False)\n",
              "      (bn1): BatchNorm2d(64, eps=1e-05, momentum=0.1, affine=True, track_running_stats=True)\n",
              "      (relu): ReLU(inplace=True)\n",
              "      (conv2): Conv2d(64, 64, kernel_size=(3, 3), stride=(1, 1), padding=(1, 1), bias=False)\n",
              "      (bn2): BatchNorm2d(64, eps=1e-05, momentum=0.1, affine=True, track_running_stats=True)\n",
              "    )\n",
              "    (1): BasicBlock(\n",
              "      (conv1): Conv2d(64, 64, kernel_size=(3, 3), stride=(1, 1), padding=(1, 1), bias=False)\n",
              "      (bn1): BatchNorm2d(64, eps=1e-05, momentum=0.1, affine=True, track_running_stats=True)\n",
              "      (relu): ReLU(inplace=True)\n",
              "      (conv2): Conv2d(64, 64, kernel_size=(3, 3), stride=(1, 1), padding=(1, 1), bias=False)\n",
              "      (bn2): BatchNorm2d(64, eps=1e-05, momentum=0.1, affine=True, track_running_stats=True)\n",
              "    )\n",
              "  )\n",
              "  (layer2): Sequential(\n",
              "    (0): BasicBlock(\n",
              "      (conv1): Conv2d(64, 128, kernel_size=(3, 3), stride=(2, 2), padding=(1, 1), bias=False)\n",
              "      (bn1): BatchNorm2d(128, eps=1e-05, momentum=0.1, affine=True, track_running_stats=True)\n",
              "      (relu): ReLU(inplace=True)\n",
              "      (conv2): Conv2d(128, 128, kernel_size=(3, 3), stride=(1, 1), padding=(1, 1), bias=False)\n",
              "      (bn2): BatchNorm2d(128, eps=1e-05, momentum=0.1, affine=True, track_running_stats=True)\n",
              "      (downsample): Sequential(\n",
              "        (0): Conv2d(64, 128, kernel_size=(1, 1), stride=(2, 2), bias=False)\n",
              "        (1): BatchNorm2d(128, eps=1e-05, momentum=0.1, affine=True, track_running_stats=True)\n",
              "      )\n",
              "    )\n",
              "    (1): BasicBlock(\n",
              "      (conv1): Conv2d(128, 128, kernel_size=(3, 3), stride=(1, 1), padding=(1, 1), bias=False)\n",
              "      (bn1): BatchNorm2d(128, eps=1e-05, momentum=0.1, affine=True, track_running_stats=True)\n",
              "      (relu): ReLU(inplace=True)\n",
              "      (conv2): Conv2d(128, 128, kernel_size=(3, 3), stride=(1, 1), padding=(1, 1), bias=False)\n",
              "      (bn2): BatchNorm2d(128, eps=1e-05, momentum=0.1, affine=True, track_running_stats=True)\n",
              "    )\n",
              "  )\n",
              "  (layer3): Sequential(\n",
              "    (0): BasicBlock(\n",
              "      (conv1): Conv2d(128, 256, kernel_size=(3, 3), stride=(2, 2), padding=(1, 1), bias=False)\n",
              "      (bn1): BatchNorm2d(256, eps=1e-05, momentum=0.1, affine=True, track_running_stats=True)\n",
              "      (relu): ReLU(inplace=True)\n",
              "      (conv2): Conv2d(256, 256, kernel_size=(3, 3), stride=(1, 1), padding=(1, 1), bias=False)\n",
              "      (bn2): BatchNorm2d(256, eps=1e-05, momentum=0.1, affine=True, track_running_stats=True)\n",
              "      (downsample): Sequential(\n",
              "        (0): Conv2d(128, 256, kernel_size=(1, 1), stride=(2, 2), bias=False)\n",
              "        (1): BatchNorm2d(256, eps=1e-05, momentum=0.1, affine=True, track_running_stats=True)\n",
              "      )\n",
              "    )\n",
              "    (1): BasicBlock(\n",
              "      (conv1): Conv2d(256, 256, kernel_size=(3, 3), stride=(1, 1), padding=(1, 1), bias=False)\n",
              "      (bn1): BatchNorm2d(256, eps=1e-05, momentum=0.1, affine=True, track_running_stats=True)\n",
              "      (relu): ReLU(inplace=True)\n",
              "      (conv2): Conv2d(256, 256, kernel_size=(3, 3), stride=(1, 1), padding=(1, 1), bias=False)\n",
              "      (bn2): BatchNorm2d(256, eps=1e-05, momentum=0.1, affine=True, track_running_stats=True)\n",
              "    )\n",
              "  )\n",
              "  (layer4): Sequential(\n",
              "    (0): BasicBlock(\n",
              "      (conv1): Conv2d(256, 512, kernel_size=(3, 3), stride=(2, 2), padding=(1, 1), bias=False)\n",
              "      (bn1): BatchNorm2d(512, eps=1e-05, momentum=0.1, affine=True, track_running_stats=True)\n",
              "      (relu): ReLU(inplace=True)\n",
              "      (conv2): Conv2d(512, 512, kernel_size=(3, 3), stride=(1, 1), padding=(1, 1), bias=False)\n",
              "      (bn2): BatchNorm2d(512, eps=1e-05, momentum=0.1, affine=True, track_running_stats=True)\n",
              "      (downsample): Sequential(\n",
              "        (0): Conv2d(256, 512, kernel_size=(1, 1), stride=(2, 2), bias=False)\n",
              "        (1): BatchNorm2d(512, eps=1e-05, momentum=0.1, affine=True, track_running_stats=True)\n",
              "      )\n",
              "    )\n",
              "    (1): BasicBlock(\n",
              "      (conv1): Conv2d(512, 512, kernel_size=(3, 3), stride=(1, 1), padding=(1, 1), bias=False)\n",
              "      (bn1): BatchNorm2d(512, eps=1e-05, momentum=0.1, affine=True, track_running_stats=True)\n",
              "      (relu): ReLU(inplace=True)\n",
              "      (conv2): Conv2d(512, 512, kernel_size=(3, 3), stride=(1, 1), padding=(1, 1), bias=False)\n",
              "      (bn2): BatchNorm2d(512, eps=1e-05, momentum=0.1, affine=True, track_running_stats=True)\n",
              "    )\n",
              "  )\n",
              "  (avgpool): AdaptiveAvgPool2d(output_size=(1, 1))\n",
              "  (fc): Sequential(\n",
              "    (fc1): Linear(in_features=512, out_features=100, bias=True)\n",
              "    (added_relu1): ReLU(inplace=True)\n",
              "    (fc2): Linear(in_features=100, out_features=50, bias=True)\n",
              "    (added_relu2): ReLU(inplace=True)\n",
              "    (fc3): Linear(in_features=50, out_features=25, bias=True)\n",
              "  )\n",
              ")"
            ]
          },
          "metadata": {},
          "execution_count": 28
        }
      ]
    },
    {
      "cell_type": "code",
      "source": [
        "τ = 0.05\n",
        "\n",
        "def loss_function(q, k, queue):\n",
        "    N = q.shape[0]\n",
        "    C = q.shape[1]\n",
        "\n",
        "    pos = torch.exp(torch.div(torch.bmm(q.view(N,1,C), k.view(N,C,1)).view(N, 1),τ))\n",
        "    neg = torch.sum(torch.exp(torch.div(torch.mm(q.view(N,C), torch.t(queue)),τ)), dim=1)\n",
        "    denominator = neg + pos\n",
        "\n",
        "    return torch.mean(-torch.log(torch.div(pos,denominator)))\n"
      ],
      "metadata": {
        "id": "c-DJ9ADZATCL"
      },
      "execution_count": null,
      "outputs": []
    },
    {
      "cell_type": "code",
      "source": [
        "type(dataloader_training_dataset_mutated)"
      ],
      "metadata": {
        "colab": {
          "base_uri": "https://localhost:8080/"
        },
        "id": "Y2BQfv5k8raL",
        "outputId": "be75a1d2-10f9-43a3-c364-f64bd4f2a80b"
      },
      "execution_count": null,
      "outputs": [
        {
          "output_type": "execute_result",
          "data": {
            "text/plain": [
              "torch.utils.data.dataloader.DataLoader"
            ]
          },
          "metadata": {},
          "execution_count": 30
        }
      ]
    },
    {
      "cell_type": "code",
      "source": [],
      "metadata": {
        "id": "pOP7UiR08vG3"
      },
      "execution_count": null,
      "outputs": []
    },
    {
      "cell_type": "code",
      "source": [
        "for i,j in enumerate(dataloader_training_dataset_mutated):\n",
        "  print(\"i is \",i)\n",
        "  print(\"data is\",j)"
      ],
      "metadata": {
        "colab": {
          "base_uri": "https://localhost:8080/",
          "height": 353
        },
        "id": "U5yanOjF3TeA",
        "outputId": "94db2d8c-f059-4477-bd64-8be4425b11bf"
      },
      "execution_count": null,
      "outputs": [
        {
          "output_type": "error",
          "ename": "FileNotFoundError",
          "evalue": "ignored",
          "traceback": [
            "\u001b[0;31m---------------------------------------------------------------------------\u001b[0m",
            "\u001b[0;31mFileNotFoundError\u001b[0m                         Traceback (most recent call last)",
            "\u001b[0;32m<ipython-input-12-cc8f6076005f>\u001b[0m in \u001b[0;36m<module>\u001b[0;34m\u001b[0m\n\u001b[0;32m----> 1\u001b[0;31m \u001b[0;32mfor\u001b[0m \u001b[0mi\u001b[0m\u001b[0;34m,\u001b[0m\u001b[0mj\u001b[0m \u001b[0;32min\u001b[0m \u001b[0menumerate\u001b[0m\u001b[0;34m(\u001b[0m\u001b[0mdataloader_training_dataset_mutated\u001b[0m\u001b[0;34m)\u001b[0m\u001b[0;34m:\u001b[0m\u001b[0;34m\u001b[0m\u001b[0;34m\u001b[0m\u001b[0m\n\u001b[0m\u001b[1;32m      2\u001b[0m   \u001b[0mprint\u001b[0m\u001b[0;34m(\u001b[0m\u001b[0;34m\"i is \"\u001b[0m\u001b[0;34m,\u001b[0m\u001b[0mi\u001b[0m\u001b[0;34m)\u001b[0m\u001b[0;34m\u001b[0m\u001b[0;34m\u001b[0m\u001b[0m\n\u001b[1;32m      3\u001b[0m   \u001b[0mprint\u001b[0m\u001b[0;34m(\u001b[0m\u001b[0;34m\"data is\"\u001b[0m\u001b[0;34m,\u001b[0m\u001b[0mj\u001b[0m\u001b[0;34m)\u001b[0m\u001b[0;34m\u001b[0m\u001b[0;34m\u001b[0m\u001b[0m\n",
            "\u001b[0;32m/usr/local/lib/python3.9/dist-packages/torch/utils/data/dataloader.py\u001b[0m in \u001b[0;36m__next__\u001b[0;34m(self)\u001b[0m\n\u001b[1;32m    626\u001b[0m                 \u001b[0;31m# TODO(https://github.com/pytorch/pytorch/issues/76750)\u001b[0m\u001b[0;34m\u001b[0m\u001b[0;34m\u001b[0m\u001b[0m\n\u001b[1;32m    627\u001b[0m                 \u001b[0mself\u001b[0m\u001b[0;34m.\u001b[0m\u001b[0m_reset\u001b[0m\u001b[0;34m(\u001b[0m\u001b[0;34m)\u001b[0m  \u001b[0;31m# type: ignore[call-arg]\u001b[0m\u001b[0;34m\u001b[0m\u001b[0;34m\u001b[0m\u001b[0m\n\u001b[0;32m--> 628\u001b[0;31m             \u001b[0mdata\u001b[0m \u001b[0;34m=\u001b[0m \u001b[0mself\u001b[0m\u001b[0;34m.\u001b[0m\u001b[0m_next_data\u001b[0m\u001b[0;34m(\u001b[0m\u001b[0;34m)\u001b[0m\u001b[0;34m\u001b[0m\u001b[0;34m\u001b[0m\u001b[0m\n\u001b[0m\u001b[1;32m    629\u001b[0m             \u001b[0mself\u001b[0m\u001b[0;34m.\u001b[0m\u001b[0m_num_yielded\u001b[0m \u001b[0;34m+=\u001b[0m \u001b[0;36m1\u001b[0m\u001b[0;34m\u001b[0m\u001b[0;34m\u001b[0m\u001b[0m\n\u001b[1;32m    630\u001b[0m             \u001b[0;32mif\u001b[0m \u001b[0mself\u001b[0m\u001b[0;34m.\u001b[0m\u001b[0m_dataset_kind\u001b[0m \u001b[0;34m==\u001b[0m \u001b[0m_DatasetKind\u001b[0m\u001b[0;34m.\u001b[0m\u001b[0mIterable\u001b[0m \u001b[0;32mand\u001b[0m\u001b[0;31m \u001b[0m\u001b[0;31m\\\u001b[0m\u001b[0;34m\u001b[0m\u001b[0;34m\u001b[0m\u001b[0m\n",
            "\u001b[0;32m/usr/local/lib/python3.9/dist-packages/torch/utils/data/dataloader.py\u001b[0m in \u001b[0;36m_next_data\u001b[0;34m(self)\u001b[0m\n\u001b[1;32m    669\u001b[0m     \u001b[0;32mdef\u001b[0m \u001b[0m_next_data\u001b[0m\u001b[0;34m(\u001b[0m\u001b[0mself\u001b[0m\u001b[0;34m)\u001b[0m\u001b[0;34m:\u001b[0m\u001b[0;34m\u001b[0m\u001b[0;34m\u001b[0m\u001b[0m\n\u001b[1;32m    670\u001b[0m         \u001b[0mindex\u001b[0m \u001b[0;34m=\u001b[0m \u001b[0mself\u001b[0m\u001b[0;34m.\u001b[0m\u001b[0m_next_index\u001b[0m\u001b[0;34m(\u001b[0m\u001b[0;34m)\u001b[0m  \u001b[0;31m# may raise StopIteration\u001b[0m\u001b[0;34m\u001b[0m\u001b[0;34m\u001b[0m\u001b[0m\n\u001b[0;32m--> 671\u001b[0;31m         \u001b[0mdata\u001b[0m \u001b[0;34m=\u001b[0m \u001b[0mself\u001b[0m\u001b[0;34m.\u001b[0m\u001b[0m_dataset_fetcher\u001b[0m\u001b[0;34m.\u001b[0m\u001b[0mfetch\u001b[0m\u001b[0;34m(\u001b[0m\u001b[0mindex\u001b[0m\u001b[0;34m)\u001b[0m  \u001b[0;31m# may raise StopIteration\u001b[0m\u001b[0;34m\u001b[0m\u001b[0;34m\u001b[0m\u001b[0m\n\u001b[0m\u001b[1;32m    672\u001b[0m         \u001b[0;32mif\u001b[0m \u001b[0mself\u001b[0m\u001b[0;34m.\u001b[0m\u001b[0m_pin_memory\u001b[0m\u001b[0;34m:\u001b[0m\u001b[0;34m\u001b[0m\u001b[0;34m\u001b[0m\u001b[0m\n\u001b[1;32m    673\u001b[0m             \u001b[0mdata\u001b[0m \u001b[0;34m=\u001b[0m \u001b[0m_utils\u001b[0m\u001b[0;34m.\u001b[0m\u001b[0mpin_memory\u001b[0m\u001b[0;34m.\u001b[0m\u001b[0mpin_memory\u001b[0m\u001b[0;34m(\u001b[0m\u001b[0mdata\u001b[0m\u001b[0;34m,\u001b[0m \u001b[0mself\u001b[0m\u001b[0;34m.\u001b[0m\u001b[0m_pin_memory_device\u001b[0m\u001b[0;34m)\u001b[0m\u001b[0;34m\u001b[0m\u001b[0;34m\u001b[0m\u001b[0m\n",
            "\u001b[0;32m/usr/local/lib/python3.9/dist-packages/torch/utils/data/_utils/fetch.py\u001b[0m in \u001b[0;36mfetch\u001b[0;34m(self, possibly_batched_index)\u001b[0m\n\u001b[1;32m     56\u001b[0m                 \u001b[0mdata\u001b[0m \u001b[0;34m=\u001b[0m \u001b[0mself\u001b[0m\u001b[0;34m.\u001b[0m\u001b[0mdataset\u001b[0m\u001b[0;34m.\u001b[0m\u001b[0m__getitems__\u001b[0m\u001b[0;34m(\u001b[0m\u001b[0mpossibly_batched_index\u001b[0m\u001b[0;34m)\u001b[0m\u001b[0;34m\u001b[0m\u001b[0;34m\u001b[0m\u001b[0m\n\u001b[1;32m     57\u001b[0m             \u001b[0;32melse\u001b[0m\u001b[0;34m:\u001b[0m\u001b[0;34m\u001b[0m\u001b[0;34m\u001b[0m\u001b[0m\n\u001b[0;32m---> 58\u001b[0;31m                 \u001b[0mdata\u001b[0m \u001b[0;34m=\u001b[0m \u001b[0;34m[\u001b[0m\u001b[0mself\u001b[0m\u001b[0;34m.\u001b[0m\u001b[0mdataset\u001b[0m\u001b[0;34m[\u001b[0m\u001b[0midx\u001b[0m\u001b[0;34m]\u001b[0m \u001b[0;32mfor\u001b[0m \u001b[0midx\u001b[0m \u001b[0;32min\u001b[0m \u001b[0mpossibly_batched_index\u001b[0m\u001b[0;34m]\u001b[0m\u001b[0;34m\u001b[0m\u001b[0;34m\u001b[0m\u001b[0m\n\u001b[0m\u001b[1;32m     59\u001b[0m         \u001b[0;32melse\u001b[0m\u001b[0;34m:\u001b[0m\u001b[0;34m\u001b[0m\u001b[0;34m\u001b[0m\u001b[0m\n\u001b[1;32m     60\u001b[0m             \u001b[0mdata\u001b[0m \u001b[0;34m=\u001b[0m \u001b[0mself\u001b[0m\u001b[0;34m.\u001b[0m\u001b[0mdataset\u001b[0m\u001b[0;34m[\u001b[0m\u001b[0mpossibly_batched_index\u001b[0m\u001b[0;34m]\u001b[0m\u001b[0;34m\u001b[0m\u001b[0;34m\u001b[0m\u001b[0m\n",
            "\u001b[0;32m/usr/local/lib/python3.9/dist-packages/torch/utils/data/_utils/fetch.py\u001b[0m in \u001b[0;36m<listcomp>\u001b[0;34m(.0)\u001b[0m\n\u001b[1;32m     56\u001b[0m                 \u001b[0mdata\u001b[0m \u001b[0;34m=\u001b[0m \u001b[0mself\u001b[0m\u001b[0;34m.\u001b[0m\u001b[0mdataset\u001b[0m\u001b[0;34m.\u001b[0m\u001b[0m__getitems__\u001b[0m\u001b[0;34m(\u001b[0m\u001b[0mpossibly_batched_index\u001b[0m\u001b[0;34m)\u001b[0m\u001b[0;34m\u001b[0m\u001b[0;34m\u001b[0m\u001b[0m\n\u001b[1;32m     57\u001b[0m             \u001b[0;32melse\u001b[0m\u001b[0;34m:\u001b[0m\u001b[0;34m\u001b[0m\u001b[0;34m\u001b[0m\u001b[0m\n\u001b[0;32m---> 58\u001b[0;31m                 \u001b[0mdata\u001b[0m \u001b[0;34m=\u001b[0m \u001b[0;34m[\u001b[0m\u001b[0mself\u001b[0m\u001b[0;34m.\u001b[0m\u001b[0mdataset\u001b[0m\u001b[0;34m[\u001b[0m\u001b[0midx\u001b[0m\u001b[0;34m]\u001b[0m \u001b[0;32mfor\u001b[0m \u001b[0midx\u001b[0m \u001b[0;32min\u001b[0m \u001b[0mpossibly_batched_index\u001b[0m\u001b[0;34m]\u001b[0m\u001b[0;34m\u001b[0m\u001b[0;34m\u001b[0m\u001b[0m\n\u001b[0m\u001b[1;32m     59\u001b[0m         \u001b[0;32melse\u001b[0m\u001b[0;34m:\u001b[0m\u001b[0;34m\u001b[0m\u001b[0;34m\u001b[0m\u001b[0m\n\u001b[1;32m     60\u001b[0m             \u001b[0mdata\u001b[0m \u001b[0;34m=\u001b[0m \u001b[0mself\u001b[0m\u001b[0;34m.\u001b[0m\u001b[0mdataset\u001b[0m\u001b[0;34m[\u001b[0m\u001b[0mpossibly_batched_index\u001b[0m\u001b[0;34m]\u001b[0m\u001b[0;34m\u001b[0m\u001b[0;34m\u001b[0m\u001b[0m\n",
            "\u001b[0;32m<ipython-input-7-324e429edcf4>\u001b[0m in \u001b[0;36m__getitem__\u001b[0;34m(self, idx)\u001b[0m\n\u001b[1;32m     34\u001b[0m \u001b[0;34m\u001b[0m\u001b[0m\n\u001b[1;32m     35\u001b[0m         \u001b[0mimg_name\u001b[0m \u001b[0;34m=\u001b[0m \u001b[0mself\u001b[0m\u001b[0;34m.\u001b[0m\u001b[0mfile_names\u001b[0m\u001b[0;34m[\u001b[0m\u001b[0midx\u001b[0m\u001b[0;34m]\u001b[0m\u001b[0;34m\u001b[0m\u001b[0;34m\u001b[0m\u001b[0m\n\u001b[0;32m---> 36\u001b[0;31m         \u001b[0mimage\u001b[0m \u001b[0;34m=\u001b[0m \u001b[0mImage\u001b[0m\u001b[0;34m.\u001b[0m\u001b[0mopen\u001b[0m\u001b[0;34m(\u001b[0m\u001b[0mimg_name\u001b[0m\u001b[0;34m)\u001b[0m\u001b[0;34m.\u001b[0m\u001b[0mconvert\u001b[0m\u001b[0;34m(\u001b[0m\u001b[0;34m'RGB'\u001b[0m\u001b[0;34m)\u001b[0m\u001b[0;34m\u001b[0m\u001b[0;34m\u001b[0m\u001b[0m\n\u001b[0m\u001b[1;32m     37\u001b[0m         \u001b[0mlabel\u001b[0m \u001b[0;34m=\u001b[0m \u001b[0mself\u001b[0m\u001b[0;34m.\u001b[0m\u001b[0mlabels\u001b[0m\u001b[0;34m[\u001b[0m\u001b[0midx\u001b[0m\u001b[0;34m]\u001b[0m\u001b[0;34m\u001b[0m\u001b[0;34m\u001b[0m\u001b[0m\n\u001b[1;32m     38\u001b[0m         \u001b[0mimage\u001b[0m \u001b[0;34m=\u001b[0m \u001b[0mT\u001b[0m\u001b[0;34m.\u001b[0m\u001b[0mResize\u001b[0m\u001b[0;34m(\u001b[0m\u001b[0;34m(\u001b[0m\u001b[0;36m250\u001b[0m\u001b[0;34m,\u001b[0m \u001b[0;36m250\u001b[0m\u001b[0;34m)\u001b[0m\u001b[0;34m)\u001b[0m\u001b[0;34m(\u001b[0m\u001b[0mimage\u001b[0m\u001b[0;34m)\u001b[0m\u001b[0;34m\u001b[0m\u001b[0;34m\u001b[0m\u001b[0m\n",
            "\u001b[0;32m/usr/local/lib/python3.9/dist-packages/PIL/Image.py\u001b[0m in \u001b[0;36mopen\u001b[0;34m(fp, mode, formats)\u001b[0m\n\u001b[1;32m   2973\u001b[0m \u001b[0;34m\u001b[0m\u001b[0m\n\u001b[1;32m   2974\u001b[0m     \u001b[0;32mif\u001b[0m \u001b[0mfilename\u001b[0m\u001b[0;34m:\u001b[0m\u001b[0;34m\u001b[0m\u001b[0;34m\u001b[0m\u001b[0m\n\u001b[0;32m-> 2975\u001b[0;31m         \u001b[0mfp\u001b[0m \u001b[0;34m=\u001b[0m \u001b[0mbuiltins\u001b[0m\u001b[0;34m.\u001b[0m\u001b[0mopen\u001b[0m\u001b[0;34m(\u001b[0m\u001b[0mfilename\u001b[0m\u001b[0;34m,\u001b[0m \u001b[0;34m\"rb\"\u001b[0m\u001b[0;34m)\u001b[0m\u001b[0;34m\u001b[0m\u001b[0;34m\u001b[0m\u001b[0m\n\u001b[0m\u001b[1;32m   2976\u001b[0m         \u001b[0mexclusive_fp\u001b[0m \u001b[0;34m=\u001b[0m \u001b[0;32mTrue\u001b[0m\u001b[0;34m\u001b[0m\u001b[0;34m\u001b[0m\u001b[0m\n\u001b[1;32m   2977\u001b[0m \u001b[0;34m\u001b[0m\u001b[0m\n",
            "\u001b[0;31mFileNotFoundError\u001b[0m: [Errno 2] No such file or directory: 'dog_2192510042_0bbe6ef4fb.jpg'"
          ]
        }
      ]
    },
    {
      "cell_type": "code",
      "source": [
        "\n",
        "K = 1250\n",
        "\n",
        "# Defining data structures for storing training info\n",
        "\n",
        "losses_train = []\n",
        "num_epochs = 0\n",
        "\n",
        "flag = 0\n",
        "\n",
        "queue = None\n",
        "\n",
        "# using SGD optimizer\n",
        "optimizer = optim.SGD(resnetq.parameters(), lr=0.001, momentum=0.9, weight_decay=1e-6)\n",
        "\n",
        "if not os.path.exists('/content/drive/MyDrive/MoCoImplementation/results'):\n",
        "    os.makedirs('/content/drive/MyDrive/MoCoImplementation/results')\n",
        "\n",
        "# # load pretrained model, optimizer and training losses file if model.pth file is available\n",
        "# if(os.path.isfile(\"results/modelq.pth\")):\n",
        "#     resnetq.load_state_dict(torch.load(\"results/modelq.pth\"))\n",
        "#     resnetk.load_state_dict(torch.load(\"results/modelk.pth\"))\n",
        "#     optimizer.load_state_dict(torch.load(\"results/optimizer.pth\"))\n",
        "\n",
        "#     # for param_group in optimizer.param_groups:\n",
        "#     #     param_group['weight_decay'] = 1e-6\n",
        "#     #     param_group['lr'] = 0.00001\n",
        "\n",
        "#     temp = np.load(\"results/lossesfile.npz\")\n",
        "#     losses_train = list(temp['arr_0'])\n",
        "#     queue = torch.load(\"results/queue.pt\")\n",
        "\n",
        "\n",
        "if queue is None:\n",
        "    while True:\n",
        "\n",
        "        with torch.no_grad():\n",
        "            for (_, sample_batched) in enumerate(dataloader_training_dataset_mutated):            \n",
        "                print(\"inside loop\")\n",
        "                xk = sample_batched['image2']\n",
        "                xk = xk.to(device)\n",
        "                k = resnetk(xk)\n",
        "                k = k.detach()\n",
        "\n",
        "                k = torch.div(k,torch.norm(k,dim=1).reshape(-1,1))\n",
        "\n",
        "                if queue is None:\n",
        "                    queue = k\n",
        "                else:\n",
        "                    if queue.shape[0] < K:\n",
        "                        queue = torch.cat((queue, k), 0)    \n",
        "                    else:\n",
        "                        flag = 1\n",
        "                \n",
        "                if flag == 1:\n",
        "                    break\n",
        "\n",
        "        if flag == 1:\n",
        "            break\n",
        "\n",
        "\n",
        "# Boolean variable on whether to perform training or not \n",
        "\n",
        "TRAINING = True\n",
        "momentum = 0.999\n",
        "\n",
        "def get_mean_of_list(L):\n",
        "    return sum(L) / len(L)\n",
        "\n",
        "if TRAINING:\n",
        "    # get resnet in train mode\n",
        "    resnetq.train()\n",
        "\n",
        "    # run a for loop for num_epochs\n",
        "    for epoch in range(num_epochs):\n",
        "\n",
        "        print(epoch)\n",
        "\n",
        "        # a list to store losses for each epoch\n",
        "        epoch_losses_train = []\n",
        "\n",
        "        # run a for loop for each batch\n",
        "        for (_, sample_batched) in enumerate(dataloader_training_dataset_mutated):\n",
        "            print('_ is ',_)\n",
        "            print('sample_batched is ',sample_batched)            \n",
        "            # zero out grads\n",
        "            optimizer.zero_grad()\n",
        "\n",
        "            # retrieve xq and xk the two image batches\n",
        "            xq = sample_batched['image1']\n",
        "            xk = sample_batched['image2']\n",
        "\n",
        "            # move them to the device\n",
        "            xq = xq.to(device)\n",
        "            xk = xk.to(device)\n",
        "\n",
        "            # get their outputs\n",
        "            q = resnetq(xq)\n",
        "            k = resnetk(xk)\n",
        "            k = k.detach()\n",
        "\n",
        "            q = torch.div(q,torch.norm(q,dim=1).reshape(-1,1))\n",
        "            k = torch.div(k,torch.norm(k,dim=1).reshape(-1,1))\n",
        "\n",
        "            # get loss value\n",
        "            loss = loss_function(q, k, queue)\n",
        "            \n",
        "            # put that loss value in the epoch losses list\n",
        "            epoch_losses_train.append(loss.cpu().data.item())\n",
        "\n",
        "            # perform backprop on loss value to get gradient values\n",
        "            loss.backward()\n",
        "\n",
        "            # run the optimizer\n",
        "            optimizer.step()\n",
        "\n",
        "            # update the queue\n",
        "            queue = torch.cat((queue, k), 0) \n",
        "\n",
        "            if queue.shape[0] > K:\n",
        "                queue = queue[256:,:]\n",
        "\n",
        "            # update resnetk\n",
        "            for θ_k, θ_q in zip(resnetk.parameters(), resnetq.parameters()):\n",
        "                θ_k.data.copy_(momentum*θ_k.data + θ_q.data*(1.0 - momentum))\n",
        "\n",
        "        # append mean of epoch losses to losses_train, essentially this will reflect mean batch loss\n",
        "        losses_train.append(get_mean_of_list(epoch_losses_train))\n",
        "\n",
        "        %cd simclr-with-momentum\n",
        "\n",
        "        # Plot the training losses Graph and save it\n",
        "        fig = plt.figure(figsize=(10, 10))\n",
        "        sns.set_style('darkgrid')\n",
        "        plt.plot(losses_train)\n",
        "        plt.legend(['Training Losses'])\n",
        "        plt.savefig('/content/drive/MyDrive/MoCoImplementation/results/losses.png')\n",
        "        plt.close()\n",
        "\n",
        "        # Store model and optimizer files\n",
        "        torch.save(resnetq.state_dict(), '/content/drive/MyDrive/MoCoImplementation/results/modelq.pth')\n",
        "        torch.save(resnetk.state_dict(), '/content/drive/MyDrive/MoCoImplementation/results/modelk.pth')\n",
        "        torch.save(optimizer.state_dict(), '/content/drive/MyDrive/MoCoImplementation/results/optimizer.pth')\n",
        "        np.savez(\"/content/drive/MyDrive/MoCoImplementation/results/lossesfile\", np.array(losses_train))\n",
        "        torch.save(queue, '/content/drive/MyDrive/MoCoImplementation/results/queue.pt')\n",
        "        %cd ..\n"
      ],
      "metadata": {
        "id": "xG-9GFRzxqsB",
        "colab": {
          "base_uri": "https://localhost:8080/",
          "height": 389
        },
        "outputId": "494e9398-35e6-451b-82f0-2b34d8989cef"
      },
      "execution_count": null,
      "outputs": [
        {
          "output_type": "error",
          "ename": "FileNotFoundError",
          "evalue": "ignored",
          "traceback": [
            "\u001b[0;31m---------------------------------------------------------------------------\u001b[0m",
            "\u001b[0;31mFileNotFoundError\u001b[0m                         Traceback (most recent call last)",
            "\u001b[0;32m<ipython-input-31-b13e4d203abe>\u001b[0m in \u001b[0;36m<module>\u001b[0;34m\u001b[0m\n\u001b[1;32m     35\u001b[0m \u001b[0;34m\u001b[0m\u001b[0m\n\u001b[1;32m     36\u001b[0m         \u001b[0;32mwith\u001b[0m \u001b[0mtorch\u001b[0m\u001b[0;34m.\u001b[0m\u001b[0mno_grad\u001b[0m\u001b[0;34m(\u001b[0m\u001b[0;34m)\u001b[0m\u001b[0;34m:\u001b[0m\u001b[0;34m\u001b[0m\u001b[0;34m\u001b[0m\u001b[0m\n\u001b[0;32m---> 37\u001b[0;31m             \u001b[0;32mfor\u001b[0m \u001b[0;34m(\u001b[0m\u001b[0m_\u001b[0m\u001b[0;34m,\u001b[0m \u001b[0msample_batched\u001b[0m\u001b[0;34m)\u001b[0m \u001b[0;32min\u001b[0m \u001b[0menumerate\u001b[0m\u001b[0;34m(\u001b[0m\u001b[0mdataloader_training_dataset_mutated\u001b[0m\u001b[0;34m)\u001b[0m\u001b[0;34m:\u001b[0m\u001b[0;34m\u001b[0m\u001b[0;34m\u001b[0m\u001b[0m\n\u001b[0m\u001b[1;32m     38\u001b[0m                 \u001b[0mprint\u001b[0m\u001b[0;34m(\u001b[0m\u001b[0;34m\"inside loop\"\u001b[0m\u001b[0;34m)\u001b[0m\u001b[0;34m\u001b[0m\u001b[0;34m\u001b[0m\u001b[0m\n\u001b[1;32m     39\u001b[0m                 \u001b[0mxk\u001b[0m \u001b[0;34m=\u001b[0m \u001b[0msample_batched\u001b[0m\u001b[0;34m[\u001b[0m\u001b[0;34m'image2'\u001b[0m\u001b[0;34m]\u001b[0m\u001b[0;34m\u001b[0m\u001b[0;34m\u001b[0m\u001b[0m\n",
            "\u001b[0;32m/usr/local/lib/python3.9/dist-packages/torch/utils/data/dataloader.py\u001b[0m in \u001b[0;36m__next__\u001b[0;34m(self)\u001b[0m\n\u001b[1;32m    626\u001b[0m                 \u001b[0;31m# TODO(https://github.com/pytorch/pytorch/issues/76750)\u001b[0m\u001b[0;34m\u001b[0m\u001b[0;34m\u001b[0m\u001b[0m\n\u001b[1;32m    627\u001b[0m                 \u001b[0mself\u001b[0m\u001b[0;34m.\u001b[0m\u001b[0m_reset\u001b[0m\u001b[0;34m(\u001b[0m\u001b[0;34m)\u001b[0m  \u001b[0;31m# type: ignore[call-arg]\u001b[0m\u001b[0;34m\u001b[0m\u001b[0;34m\u001b[0m\u001b[0m\n\u001b[0;32m--> 628\u001b[0;31m             \u001b[0mdata\u001b[0m \u001b[0;34m=\u001b[0m \u001b[0mself\u001b[0m\u001b[0;34m.\u001b[0m\u001b[0m_next_data\u001b[0m\u001b[0;34m(\u001b[0m\u001b[0;34m)\u001b[0m\u001b[0;34m\u001b[0m\u001b[0;34m\u001b[0m\u001b[0m\n\u001b[0m\u001b[1;32m    629\u001b[0m             \u001b[0mself\u001b[0m\u001b[0;34m.\u001b[0m\u001b[0m_num_yielded\u001b[0m \u001b[0;34m+=\u001b[0m \u001b[0;36m1\u001b[0m\u001b[0;34m\u001b[0m\u001b[0;34m\u001b[0m\u001b[0m\n\u001b[1;32m    630\u001b[0m             \u001b[0;32mif\u001b[0m \u001b[0mself\u001b[0m\u001b[0;34m.\u001b[0m\u001b[0m_dataset_kind\u001b[0m \u001b[0;34m==\u001b[0m \u001b[0m_DatasetKind\u001b[0m\u001b[0;34m.\u001b[0m\u001b[0mIterable\u001b[0m \u001b[0;32mand\u001b[0m\u001b[0;31m \u001b[0m\u001b[0;31m\\\u001b[0m\u001b[0;34m\u001b[0m\u001b[0;34m\u001b[0m\u001b[0m\n",
            "\u001b[0;32m/usr/local/lib/python3.9/dist-packages/torch/utils/data/dataloader.py\u001b[0m in \u001b[0;36m_next_data\u001b[0;34m(self)\u001b[0m\n\u001b[1;32m    669\u001b[0m     \u001b[0;32mdef\u001b[0m \u001b[0m_next_data\u001b[0m\u001b[0;34m(\u001b[0m\u001b[0mself\u001b[0m\u001b[0;34m)\u001b[0m\u001b[0;34m:\u001b[0m\u001b[0;34m\u001b[0m\u001b[0;34m\u001b[0m\u001b[0m\n\u001b[1;32m    670\u001b[0m         \u001b[0mindex\u001b[0m \u001b[0;34m=\u001b[0m \u001b[0mself\u001b[0m\u001b[0;34m.\u001b[0m\u001b[0m_next_index\u001b[0m\u001b[0;34m(\u001b[0m\u001b[0;34m)\u001b[0m  \u001b[0;31m# may raise StopIteration\u001b[0m\u001b[0;34m\u001b[0m\u001b[0;34m\u001b[0m\u001b[0m\n\u001b[0;32m--> 671\u001b[0;31m         \u001b[0mdata\u001b[0m \u001b[0;34m=\u001b[0m \u001b[0mself\u001b[0m\u001b[0;34m.\u001b[0m\u001b[0m_dataset_fetcher\u001b[0m\u001b[0;34m.\u001b[0m\u001b[0mfetch\u001b[0m\u001b[0;34m(\u001b[0m\u001b[0mindex\u001b[0m\u001b[0;34m)\u001b[0m  \u001b[0;31m# may raise StopIteration\u001b[0m\u001b[0;34m\u001b[0m\u001b[0;34m\u001b[0m\u001b[0m\n\u001b[0m\u001b[1;32m    672\u001b[0m         \u001b[0;32mif\u001b[0m \u001b[0mself\u001b[0m\u001b[0;34m.\u001b[0m\u001b[0m_pin_memory\u001b[0m\u001b[0;34m:\u001b[0m\u001b[0;34m\u001b[0m\u001b[0;34m\u001b[0m\u001b[0m\n\u001b[1;32m    673\u001b[0m             \u001b[0mdata\u001b[0m \u001b[0;34m=\u001b[0m \u001b[0m_utils\u001b[0m\u001b[0;34m.\u001b[0m\u001b[0mpin_memory\u001b[0m\u001b[0;34m.\u001b[0m\u001b[0mpin_memory\u001b[0m\u001b[0;34m(\u001b[0m\u001b[0mdata\u001b[0m\u001b[0;34m,\u001b[0m \u001b[0mself\u001b[0m\u001b[0;34m.\u001b[0m\u001b[0m_pin_memory_device\u001b[0m\u001b[0;34m)\u001b[0m\u001b[0;34m\u001b[0m\u001b[0;34m\u001b[0m\u001b[0m\n",
            "\u001b[0;32m/usr/local/lib/python3.9/dist-packages/torch/utils/data/_utils/fetch.py\u001b[0m in \u001b[0;36mfetch\u001b[0;34m(self, possibly_batched_index)\u001b[0m\n\u001b[1;32m     56\u001b[0m                 \u001b[0mdata\u001b[0m \u001b[0;34m=\u001b[0m \u001b[0mself\u001b[0m\u001b[0;34m.\u001b[0m\u001b[0mdataset\u001b[0m\u001b[0;34m.\u001b[0m\u001b[0m__getitems__\u001b[0m\u001b[0;34m(\u001b[0m\u001b[0mpossibly_batched_index\u001b[0m\u001b[0;34m)\u001b[0m\u001b[0;34m\u001b[0m\u001b[0;34m\u001b[0m\u001b[0m\n\u001b[1;32m     57\u001b[0m             \u001b[0;32melse\u001b[0m\u001b[0;34m:\u001b[0m\u001b[0;34m\u001b[0m\u001b[0;34m\u001b[0m\u001b[0m\n\u001b[0;32m---> 58\u001b[0;31m                 \u001b[0mdata\u001b[0m \u001b[0;34m=\u001b[0m \u001b[0;34m[\u001b[0m\u001b[0mself\u001b[0m\u001b[0;34m.\u001b[0m\u001b[0mdataset\u001b[0m\u001b[0;34m[\u001b[0m\u001b[0midx\u001b[0m\u001b[0;34m]\u001b[0m \u001b[0;32mfor\u001b[0m \u001b[0midx\u001b[0m \u001b[0;32min\u001b[0m \u001b[0mpossibly_batched_index\u001b[0m\u001b[0;34m]\u001b[0m\u001b[0;34m\u001b[0m\u001b[0;34m\u001b[0m\u001b[0m\n\u001b[0m\u001b[1;32m     59\u001b[0m         \u001b[0;32melse\u001b[0m\u001b[0;34m:\u001b[0m\u001b[0;34m\u001b[0m\u001b[0;34m\u001b[0m\u001b[0m\n\u001b[1;32m     60\u001b[0m             \u001b[0mdata\u001b[0m \u001b[0;34m=\u001b[0m \u001b[0mself\u001b[0m\u001b[0;34m.\u001b[0m\u001b[0mdataset\u001b[0m\u001b[0;34m[\u001b[0m\u001b[0mpossibly_batched_index\u001b[0m\u001b[0;34m]\u001b[0m\u001b[0;34m\u001b[0m\u001b[0;34m\u001b[0m\u001b[0m\n",
            "\u001b[0;32m/usr/local/lib/python3.9/dist-packages/torch/utils/data/_utils/fetch.py\u001b[0m in \u001b[0;36m<listcomp>\u001b[0;34m(.0)\u001b[0m\n\u001b[1;32m     56\u001b[0m                 \u001b[0mdata\u001b[0m \u001b[0;34m=\u001b[0m \u001b[0mself\u001b[0m\u001b[0;34m.\u001b[0m\u001b[0mdataset\u001b[0m\u001b[0;34m.\u001b[0m\u001b[0m__getitems__\u001b[0m\u001b[0;34m(\u001b[0m\u001b[0mpossibly_batched_index\u001b[0m\u001b[0;34m)\u001b[0m\u001b[0;34m\u001b[0m\u001b[0;34m\u001b[0m\u001b[0m\n\u001b[1;32m     57\u001b[0m             \u001b[0;32melse\u001b[0m\u001b[0;34m:\u001b[0m\u001b[0;34m\u001b[0m\u001b[0;34m\u001b[0m\u001b[0m\n\u001b[0;32m---> 58\u001b[0;31m                 \u001b[0mdata\u001b[0m \u001b[0;34m=\u001b[0m \u001b[0;34m[\u001b[0m\u001b[0mself\u001b[0m\u001b[0;34m.\u001b[0m\u001b[0mdataset\u001b[0m\u001b[0;34m[\u001b[0m\u001b[0midx\u001b[0m\u001b[0;34m]\u001b[0m \u001b[0;32mfor\u001b[0m \u001b[0midx\u001b[0m \u001b[0;32min\u001b[0m \u001b[0mpossibly_batched_index\u001b[0m\u001b[0;34m]\u001b[0m\u001b[0;34m\u001b[0m\u001b[0;34m\u001b[0m\u001b[0m\n\u001b[0m\u001b[1;32m     59\u001b[0m         \u001b[0;32melse\u001b[0m\u001b[0;34m:\u001b[0m\u001b[0;34m\u001b[0m\u001b[0;34m\u001b[0m\u001b[0m\n\u001b[1;32m     60\u001b[0m             \u001b[0mdata\u001b[0m \u001b[0;34m=\u001b[0m \u001b[0mself\u001b[0m\u001b[0;34m.\u001b[0m\u001b[0mdataset\u001b[0m\u001b[0;34m[\u001b[0m\u001b[0mpossibly_batched_index\u001b[0m\u001b[0;34m]\u001b[0m\u001b[0;34m\u001b[0m\u001b[0;34m\u001b[0m\u001b[0m\n",
            "\u001b[0;32m<ipython-input-26-324e429edcf4>\u001b[0m in \u001b[0;36m__getitem__\u001b[0;34m(self, idx)\u001b[0m\n\u001b[1;32m     34\u001b[0m \u001b[0;34m\u001b[0m\u001b[0m\n\u001b[1;32m     35\u001b[0m         \u001b[0mimg_name\u001b[0m \u001b[0;34m=\u001b[0m \u001b[0mself\u001b[0m\u001b[0;34m.\u001b[0m\u001b[0mfile_names\u001b[0m\u001b[0;34m[\u001b[0m\u001b[0midx\u001b[0m\u001b[0;34m]\u001b[0m\u001b[0;34m\u001b[0m\u001b[0;34m\u001b[0m\u001b[0m\n\u001b[0;32m---> 36\u001b[0;31m         \u001b[0mimage\u001b[0m \u001b[0;34m=\u001b[0m \u001b[0mImage\u001b[0m\u001b[0;34m.\u001b[0m\u001b[0mopen\u001b[0m\u001b[0;34m(\u001b[0m\u001b[0mimg_name\u001b[0m\u001b[0;34m)\u001b[0m\u001b[0;34m.\u001b[0m\u001b[0mconvert\u001b[0m\u001b[0;34m(\u001b[0m\u001b[0;34m'RGB'\u001b[0m\u001b[0;34m)\u001b[0m\u001b[0;34m\u001b[0m\u001b[0;34m\u001b[0m\u001b[0m\n\u001b[0m\u001b[1;32m     37\u001b[0m         \u001b[0mlabel\u001b[0m \u001b[0;34m=\u001b[0m \u001b[0mself\u001b[0m\u001b[0;34m.\u001b[0m\u001b[0mlabels\u001b[0m\u001b[0;34m[\u001b[0m\u001b[0midx\u001b[0m\u001b[0;34m]\u001b[0m\u001b[0;34m\u001b[0m\u001b[0;34m\u001b[0m\u001b[0m\n\u001b[1;32m     38\u001b[0m         \u001b[0mimage\u001b[0m \u001b[0;34m=\u001b[0m \u001b[0mT\u001b[0m\u001b[0;34m.\u001b[0m\u001b[0mResize\u001b[0m\u001b[0;34m(\u001b[0m\u001b[0;34m(\u001b[0m\u001b[0;36m250\u001b[0m\u001b[0;34m,\u001b[0m \u001b[0;36m250\u001b[0m\u001b[0;34m)\u001b[0m\u001b[0;34m)\u001b[0m\u001b[0;34m(\u001b[0m\u001b[0mimage\u001b[0m\u001b[0;34m)\u001b[0m\u001b[0;34m\u001b[0m\u001b[0;34m\u001b[0m\u001b[0m\n",
            "\u001b[0;32m/usr/local/lib/python3.9/dist-packages/PIL/Image.py\u001b[0m in \u001b[0;36mopen\u001b[0;34m(fp, mode, formats)\u001b[0m\n\u001b[1;32m   2973\u001b[0m \u001b[0;34m\u001b[0m\u001b[0m\n\u001b[1;32m   2974\u001b[0m     \u001b[0;32mif\u001b[0m \u001b[0mfilename\u001b[0m\u001b[0;34m:\u001b[0m\u001b[0;34m\u001b[0m\u001b[0;34m\u001b[0m\u001b[0m\n\u001b[0;32m-> 2975\u001b[0;31m         \u001b[0mfp\u001b[0m \u001b[0;34m=\u001b[0m \u001b[0mbuiltins\u001b[0m\u001b[0;34m.\u001b[0m\u001b[0mopen\u001b[0m\u001b[0;34m(\u001b[0m\u001b[0mfilename\u001b[0m\u001b[0;34m,\u001b[0m \u001b[0;34m\"rb\"\u001b[0m\u001b[0;34m)\u001b[0m\u001b[0;34m\u001b[0m\u001b[0;34m\u001b[0m\u001b[0m\n\u001b[0m\u001b[1;32m   2976\u001b[0m         \u001b[0mexclusive_fp\u001b[0m \u001b[0;34m=\u001b[0m \u001b[0;32mTrue\u001b[0m\u001b[0;34m\u001b[0m\u001b[0;34m\u001b[0m\u001b[0m\n\u001b[1;32m   2977\u001b[0m \u001b[0;34m\u001b[0m\u001b[0m\n",
            "\u001b[0;31mFileNotFoundError\u001b[0m: [Errno 2] No such file or directory: 'car_2409438069_7afa0e81c7.jpg'"
          ]
        }
      ]
    },
    {
      "cell_type": "code",
      "source": [],
      "metadata": {
        "id": "3gGZOKYuwX4p"
      },
      "execution_count": null,
      "outputs": []
    },
    {
      "cell_type": "code",
      "source": [
        "import statistics\n",
        "\n",
        "# removing the projection head\n",
        "if len(nn.Sequential(*list(resnetq.fc.children()))) == 5:\n",
        "    resnetq.fc = nn.Sequential(*list(resnetq.fc.children())[:-3])\n",
        "\n",
        "\n",
        "Classes_List = sorted(os.listdir('imagenette/train'))\n",
        "Classes_Map = dict()\n",
        "for i in range(len(Classes_List)):\n",
        "    Classes_Map[Classes_List[i]] = i\n",
        "\n",
        "# Boolean variable to control whether to train the linear classifier or not\n",
        "LINEAR = True\n",
        "\n",
        "class LinearNet(nn.Module):\n",
        "\n",
        "    def __init__(self):\n",
        "        super(LinearNet, self).__init__()\n",
        "        self.fc1 = torch.nn.Linear(100, 10)\n",
        "\n",
        "    def forward(self, x):\n",
        "        x = self.fc1(x)\n",
        "        return(x)\n",
        "\n",
        "if LINEAR:\n",
        "\n",
        "    if not os.path.exists('/content/drive/MyDrive/MoCoImplementation/linear'):\n",
        "        os.makedirs('/content/drive/MyDrive/MoCoImplementation/linear')\n",
        "\n",
        "    # getting our linear classifier\n",
        "    linear_classifier = LinearNet()\n",
        "\n",
        "    # moving it to device\n",
        "    linear_classifier.to(device)\n",
        "\n",
        "    # using SGD as a linear optimizer\n",
        "    linear_optimizer = optim.SGD(linear_classifier.parameters(), lr=0.1, momentum=0.9, weight_decay=1e-6)\n",
        "\n",
        "    #number of epochs\n",
        "    num_epochs_linear = 20\n",
        "\n",
        "    # Boolean variable to control training of linear classifier\n",
        "    LINEAR_TRAINING = True\n",
        "\n",
        "    # Defining data structures to store train and test info for linear classifier\n",
        "    losses_train_linear = []\n",
        "    acc_train_linear = []\n",
        "    losses_test_linear = []\n",
        "    acc_test_linear = []\n",
        "    test_accuracy = []\n",
        "\n",
        "\n",
        "    # a variable to keep track of the maximum test accuracy, will be useful to store \n",
        "    # model parameters with the best test accuracy\n",
        "    max_test_acc = 0\n",
        "\n",
        "    # if a model exists in the linear folder, load it\n",
        "    if(os.path.isfile(\"/content/drive/MyDrive/MoCoImplementation/linear/model.pth\")):\n",
        "\n",
        "        # load state dict for linear model and optimizer\n",
        "        linear_classifier.load_state_dict(torch.load(\"/content/drive/MyDrive/MoCoImplementation/linear/model.pth\"))\n",
        "        linear_optimizer.load_state_dict(torch.load(\"/content/drive/MyDrive/MoCoImplementation/linear/optimizer.pth\"))\n",
        "\n",
        "        # change learning rate, you can change its values if you don't feel its necessity while training\n",
        "        # for g in linear_optimizer.param_groups:\n",
        "        #   g['lr'] = 0.001\n",
        "        #   g['weight_decay'] = 0\n",
        "\n",
        "        # load data structures\n",
        "        # \n",
        "\n",
        "    # Run a for loop for training the linear classifier\n",
        "    for epoch in range(num_epochs_linear):\n",
        "\n",
        "        if LINEAR_TRAINING:\n",
        "\n",
        "            # run linear classifier in train mode\n",
        "            linear_classifier.train()\n",
        "\n",
        "            # a list to store losses for each batch in an epoch\n",
        "            epoch_losses_train_linear = []\n",
        "            epoch_acc_train_num_linear = 0.0\n",
        "            epoch_acc_train_den_linear = 0.0\n",
        "\n",
        "            # for loop for running through each batch\n",
        "            for (_, sample_batched) in enumerate(dataloader_training_dataset):\n",
        "\n",
        "                # get x and y from the batch\n",
        "                x = sample_batched['image']\n",
        "                y_actual = sample_batched['label']\n",
        "                y_actual = torch.tensor([Classes_Map[i] for i in y_actual])\n",
        "\n",
        "                # move them to the device\n",
        "                x = x.to(device)\n",
        "                y_actual  = y_actual.to(device)\n",
        "\n",
        "                with torch.no_grad():\n",
        "                    # get output from resnet architecture\n",
        "                    y_intermediate = resnetq(x)\n",
        "\n",
        "                # zero the grad values\n",
        "                linear_optimizer.zero_grad()\n",
        "\n",
        "                # run y_intermediate through the linear classifier\n",
        "                y_predicted = linear_classifier(y_intermediate)\n",
        "\n",
        "                # get the cross entropy loss value\n",
        "                loss = nn.CrossEntropyLoss()(y_predicted, y_actual)\n",
        "\n",
        "                # add the obtained loss value to this list\n",
        "                epoch_losses_train_linear.append(loss.data.item())\n",
        "                \n",
        "                # perform backprop through the loss value\n",
        "                loss.backward()\n",
        "\n",
        "                # call the linear_optimizer step function\n",
        "                linear_optimizer.step()\n",
        "\n",
        "                # get predictions and actual values to cpu  \n",
        "                pred = np.argmax(y_predicted.cpu().data, axis=1)\n",
        "                actual = y_actual.cpu().data\n",
        "\n",
        "                #update the numerators and denominators of accuracy\n",
        "                epoch_acc_train_num_linear += (actual == pred).sum().item()\n",
        "                epoch_acc_train_den_linear += len(actual)\n",
        "\n",
        "                x = None\n",
        "                y_intermediate = None\n",
        "                y_predicted = None\n",
        "                sample_batched = None\n",
        "\n",
        "            # update losses and acc lists    \n",
        "            losses_train_linear.append(get_mean_of_list(epoch_losses_train_linear))\n",
        "            acc_train_linear.append(epoch_acc_train_num_linear / epoch_acc_train_den_linear)\n",
        "        \n",
        "        # run linear classifier in eval mode\n",
        "        linear_classifier.eval()\n",
        "\n",
        "        # essential variables to keep track of losses and acc\n",
        "        epoch_losses_test_linear = []\n",
        "        epoch_acc_test_num_linear = 0.0\n",
        "        epoch_acc_test_den_linear = 0.0\n",
        "\n",
        "        # run a for loop through each batch\n",
        "        for (_, sample_batched) in enumerate(dataloader_testing_dataset):\n",
        "            x = sample_batched['image']\n",
        "            y_actual = sample_batched['label']\n",
        "            y_actual = torch.tensor([Classes_Map[i] for i in y_actual])\n",
        "\n",
        "            x = x.to(device)\n",
        "            y_actual  = y_actual.to(device)\n",
        "\n",
        "            with torch.no_grad():\n",
        "                y_intermediate = resnetq(x)\n",
        "\n",
        "            y_predicted = linear_classifier(y_intermediate)\n",
        "            loss = nn.CrossEntropyLoss()(y_predicted, y_actual)\n",
        "            epoch_losses_test_linear.append(loss.data.item())\n",
        "\n",
        "            pred = np.argmax(y_predicted.cpu().data, axis=1)\n",
        "            actual = y_actual.cpu().data\n",
        "            epoch_acc_test_num_linear += (actual == pred).sum().item()\n",
        "            epoch_acc_test_den_linear += len(actual)\n",
        "\n",
        "        # calculate test_acc\n",
        "        test_acc = epoch_acc_test_num_linear / epoch_acc_test_den_linear\n",
        "        print(\"test accuracy for epoch \",epoch,\" is \",test_acc)\n",
        "        test_accuracy.append(test_acc)\n",
        "\n",
        "        if LINEAR_TRAINING:\n",
        "            losses_test_linear.append(get_mean_of_list(epoch_losses_test_linear))\n",
        "            acc_test_linear.append(epoch_acc_test_num_linear / epoch_acc_test_den_linear)\n",
        "\n",
        "            # plotting losses and accuracies\n",
        "\n",
        "            fig = plt.figure(figsize=(10, 10))\n",
        "            sns.set_style('darkgrid')\n",
        "            plt.plot(losses_train_linear)\n",
        "            plt.plot(losses_test_linear)\n",
        "            plt.legend(['Training Losses', 'Testing Losses'])\n",
        "            plt.savefig('/content/drive/MyDrive/MoCoImplementation/linear/losses.png')\n",
        "            plt.close()\n",
        "\n",
        "            fig = plt.figure(figsize=(10, 10))\n",
        "            sns.set_style('darkgrid')\n",
        "            plt.plot(acc_train_linear)\n",
        "            plt.plot(acc_test_linear)\n",
        "            plt.legend(['Training Accuracy', 'Testing Accuracy'])\n",
        "            plt.savefig('/content/drive/MyDrive/MoCoImplementation/linear/accuracy.png')\n",
        "            plt.close()\n",
        "\n",
        "            print(\"Epoch completed\")\n",
        "\n",
        "            if test_acc >= max_test_acc:\n",
        "\n",
        "                # save the model only when test_acc exceeds the current max_test_acc\n",
        "\n",
        "                max_test_acc = test_acc\n",
        "                torch.save(linear_classifier.state_dict(), '/content/drive/MyDrive/MoCoImplementation/linear/model.pth')\n",
        "                torch.save(linear_optimizer.state_dict(), '/content/drive/MyDrive/MoCoImplementation/linear/optimizer.pth')\n",
        "\n",
        "        # save data structures\n",
        "        np.savez(\"/content/drive/MyDrive/MoCoImplementation/linear/linear_losses_train_file\", np.array(losses_train_linear))\n",
        "        np.savez(\"/content/drive/MyDrive/MoCoImplementation/linear/linear_losses_test_file\", np.array(losses_test_linear))\n",
        "        np.savez(\"/content/drive/MyDrive/MoCoImplementation/linear/linear_acc_train_file\", np.array(acc_train_linear))\n",
        "        np.savez(\"/content/drive/MyDrive/MoCoImplementation/linear/linear_acc_test_file\", np.array(acc_test_linear))\n",
        "    print(\"Testing accuracy for self-supervised learning using MoCo-v2 is \",statistics.mean(test_accuracy))\n"
      ],
      "metadata": {
        "colab": {
          "base_uri": "https://localhost:8080/"
        },
        "id": "t323wmP_lJDb",
        "outputId": "7830a29b-d09e-4c35-a188-8aca9dca5627"
      },
      "execution_count": null,
      "outputs": [
        {
          "output_type": "stream",
          "name": "stdout",
          "text": [
            "test accuracy for epoch  0  is  0.11617834394904458\n",
            "Epoch completed\n",
            "test accuracy for epoch  1  is  0.18369426751592358\n",
            "Epoch completed\n",
            "test accuracy for epoch  2  is  0.24076433121019108\n",
            "Epoch completed\n",
            "test accuracy for epoch  3  is  0.2736305732484076\n",
            "Epoch completed\n",
            "test accuracy for epoch  4  is  0.3470063694267516\n",
            "Epoch completed\n",
            "test accuracy for epoch  5  is  0.4356687898089172\n",
            "Epoch completed\n",
            "test accuracy for epoch  6  is  0.4045859872611465\n",
            "Epoch completed\n",
            "test accuracy for epoch  7  is  0.3915923566878981\n",
            "Epoch completed\n",
            "test accuracy for epoch  8  is  0.4043312101910828\n",
            "Epoch completed\n",
            "test accuracy for epoch  9  is  0.40662420382165604\n",
            "Epoch completed\n",
            "test accuracy for epoch  10  is  0.43006369426751595\n",
            "Epoch completed\n",
            "test accuracy for epoch  11  is  0.49044585987261147\n",
            "Epoch completed\n"
          ]
        }
      ]
    },
    {
      "cell_type": "code",
      "source": [],
      "metadata": {
        "id": "izqwmH0pxprZ"
      },
      "execution_count": null,
      "outputs": []
    },
    {
      "cell_type": "code",
      "source": [],
      "metadata": {
        "id": "ilIj5u6aoA0k"
      },
      "execution_count": null,
      "outputs": []
    }
  ]
}